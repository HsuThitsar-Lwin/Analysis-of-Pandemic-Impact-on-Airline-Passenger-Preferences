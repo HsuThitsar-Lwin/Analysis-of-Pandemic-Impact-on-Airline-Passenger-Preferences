{
 "cells": [
  {
   "cell_type": "markdown",
   "metadata": {
    "cell_id": "c849ccc94bb241bdaab295d4b8c6981f",
    "deepnote_cell_type": "text-cell-h1",
    "formattedRanges": []
   },
   "source": [
    "# Cleaning"
   ]
  },
  {
   "cell_type": "code",
   "execution_count": 1,
   "metadata": {
    "cell_id": "25bbc2a7923149bf9c54d11c2f6ac286",
    "deepnote_cell_type": "code",
    "deepnote_to_be_reexecuted": false,
    "execution_millis": 3370,
    "execution_start": 1697463804081,
    "source_hash": null
   },
   "outputs": [],
   "source": [
    "# importing\n",
    "import pandas as pd\n",
    "import numpy as np\n",
    "import matplotlib.pyplot as plt\n",
    "from sklearn.preprocessing import StandardScaler\n",
    "from imblearn.over_sampling import SMOTE\n",
    "from imblearn.under_sampling import EditedNearestNeighbours\n",
    "from imblearn.combine import SMOTEENN\n",
    "from sklearn.linear_model import LogisticRegression\n",
    "from sklearn.model_selection import train_test_split\n",
    "from sklearn.metrics import accuracy_score, precision_score, recall_score, f1_score, confusion_matrix, classification_report\n",
    "import matplotlib.pyplot as plt\n",
    "import seaborn as sns\n",
    "from sklearn.tree import DecisionTreeClassifier\n",
    "from sklearn.model_selection import GridSearchCV\n",
    "from sklearn.ensemble import RandomForestClassifier\n",
    "from sklearn.model_selection import train_test_split\n",
    "from sklearn.preprocessing import LabelEncoder"
   ]
  },
  {
   "cell_type": "code",
   "execution_count": 2,
   "metadata": {
    "cell_id": "b7fc2fc6f97840e59ade41f0ab95dae2",
    "deepnote_cell_type": "code",
    "deepnote_table_loading": false,
    "deepnote_table_state": {
     "filters": [],
     "pageIndex": 0,
     "pageSize": 50,
     "sortBy": []
    },
    "deepnote_to_be_reexecuted": false,
    "execution_millis": 1012,
    "execution_start": 1697463807453,
    "source_hash": null
   },
   "outputs": [
    {
     "data": {
      "text/html": [
       "<div>\n",
       "<style scoped>\n",
       "    .dataframe tbody tr th:only-of-type {\n",
       "        vertical-align: middle;\n",
       "    }\n",
       "\n",
       "    .dataframe tbody tr th {\n",
       "        vertical-align: top;\n",
       "    }\n",
       "\n",
       "    .dataframe thead th {\n",
       "        text-align: right;\n",
       "    }\n",
       "</style>\n",
       "<table border=\"1\" class=\"dataframe\">\n",
       "  <thead>\n",
       "    <tr style=\"text-align: right;\">\n",
       "      <th></th>\n",
       "      <th>Review_Title</th>\n",
       "      <th>Review Date</th>\n",
       "      <th>Review</th>\n",
       "      <th>Type Of Traveller</th>\n",
       "      <th>Seat Type</th>\n",
       "      <th>Seat Comfort</th>\n",
       "      <th>Cabin Staff Service</th>\n",
       "      <th>Food &amp; Beverages</th>\n",
       "      <th>Ground Service</th>\n",
       "      <th>Inflight Entertainment</th>\n",
       "      <th>Wifi &amp; Connectivity</th>\n",
       "      <th>Value For Money</th>\n",
       "      <th>Recommended</th>\n",
       "      <th>Total Score</th>\n",
       "      <th>Review Period</th>\n",
       "      <th>sentiment</th>\n",
       "      <th>sentiment_score</th>\n",
       "    </tr>\n",
       "  </thead>\n",
       "  <tbody>\n",
       "    <tr>\n",
       "      <th>0</th>\n",
       "      <td>\"pretty decent airline\"</td>\n",
       "      <td>2019-01-01</td>\n",
       "      <td>moroni moheli . turned pretty decent airline ....</td>\n",
       "      <td>Solo Leisure</td>\n",
       "      <td>Economy Class</td>\n",
       "      <td>4.0</td>\n",
       "      <td>5.0</td>\n",
       "      <td>4.0</td>\n",
       "      <td>4.0</td>\n",
       "      <td>2.0</td>\n",
       "      <td>1.0</td>\n",
       "      <td>3.0</td>\n",
       "      <td>yes</td>\n",
       "      <td>23.0</td>\n",
       "      <td>0</td>\n",
       "      <td>1</td>\n",
       "      <td>0.9217</td>\n",
       "    </tr>\n",
       "    <tr>\n",
       "      <th>1</th>\n",
       "      <td>\"Not a good airline\"</td>\n",
       "      <td>2019-01-01</td>\n",
       "      <td>moroni anjouan . small airline . ticket advise...</td>\n",
       "      <td>Solo Leisure</td>\n",
       "      <td>Economy Class</td>\n",
       "      <td>2.0</td>\n",
       "      <td>2.0</td>\n",
       "      <td>1.0</td>\n",
       "      <td>1.0</td>\n",
       "      <td>2.0</td>\n",
       "      <td>1.0</td>\n",
       "      <td>2.0</td>\n",
       "      <td>no</td>\n",
       "      <td>11.0</td>\n",
       "      <td>0</td>\n",
       "      <td>0</td>\n",
       "      <td>-0.0258</td>\n",
       "    </tr>\n",
       "    <tr>\n",
       "      <th>2</th>\n",
       "      <td>\"flight was fortunately short\"</td>\n",
       "      <td>2019-01-01</td>\n",
       "      <td>anjouan dzaoudzi . small airline airline based...</td>\n",
       "      <td>Solo Leisure</td>\n",
       "      <td>Economy Class</td>\n",
       "      <td>2.0</td>\n",
       "      <td>1.0</td>\n",
       "      <td>1.0</td>\n",
       "      <td>1.0</td>\n",
       "      <td>2.0</td>\n",
       "      <td>1.0</td>\n",
       "      <td>2.0</td>\n",
       "      <td>no</td>\n",
       "      <td>10.0</td>\n",
       "      <td>0</td>\n",
       "      <td>1</td>\n",
       "      <td>0.8264</td>\n",
       "    </tr>\n",
       "    <tr>\n",
       "      <th>3</th>\n",
       "      <td>\"I will never fly again with Adria\"</td>\n",
       "      <td>2019-01-01</td>\n",
       "      <td>please favor fly adria . route munich pristina...</td>\n",
       "      <td>Solo Leisure</td>\n",
       "      <td>Economy Class</td>\n",
       "      <td>1.0</td>\n",
       "      <td>1.0</td>\n",
       "      <td>2.0</td>\n",
       "      <td>1.0</td>\n",
       "      <td>2.0</td>\n",
       "      <td>1.0</td>\n",
       "      <td>1.0</td>\n",
       "      <td>no</td>\n",
       "      <td>9.0</td>\n",
       "      <td>0</td>\n",
       "      <td>0</td>\n",
       "      <td>-0.9054</td>\n",
       "    </tr>\n",
       "    <tr>\n",
       "      <th>4</th>\n",
       "      <td>\"it ruined our last days of holidays\"</td>\n",
       "      <td>2019-01-01</td>\n",
       "      <td>book flight airline ! friend returned sofia am...</td>\n",
       "      <td>Couple Leisure</td>\n",
       "      <td>Economy Class</td>\n",
       "      <td>1.0</td>\n",
       "      <td>1.0</td>\n",
       "      <td>1.0</td>\n",
       "      <td>1.0</td>\n",
       "      <td>1.0</td>\n",
       "      <td>1.0</td>\n",
       "      <td>1.0</td>\n",
       "      <td>no</td>\n",
       "      <td>7.0</td>\n",
       "      <td>0</td>\n",
       "      <td>1</td>\n",
       "      <td>0.5255</td>\n",
       "    </tr>\n",
       "  </tbody>\n",
       "</table>\n",
       "</div>"
      ],
      "text/plain": [
       "                            Review_Title Review Date  \\\n",
       "0                \"pretty decent airline\"  2019-01-01   \n",
       "1                   \"Not a good airline\"  2019-01-01   \n",
       "2         \"flight was fortunately short\"  2019-01-01   \n",
       "3    \"I will never fly again with Adria\"  2019-01-01   \n",
       "4  \"it ruined our last days of holidays\"  2019-01-01   \n",
       "\n",
       "                                              Review Type Of Traveller  \\\n",
       "0  moroni moheli . turned pretty decent airline ....      Solo Leisure   \n",
       "1  moroni anjouan . small airline . ticket advise...      Solo Leisure   \n",
       "2  anjouan dzaoudzi . small airline airline based...      Solo Leisure   \n",
       "3  please favor fly adria . route munich pristina...      Solo Leisure   \n",
       "4  book flight airline ! friend returned sofia am...    Couple Leisure   \n",
       "\n",
       "       Seat Type  Seat Comfort  Cabin Staff Service  Food & Beverages  \\\n",
       "0  Economy Class           4.0                  5.0               4.0   \n",
       "1  Economy Class           2.0                  2.0               1.0   \n",
       "2  Economy Class           2.0                  1.0               1.0   \n",
       "3  Economy Class           1.0                  1.0               2.0   \n",
       "4  Economy Class           1.0                  1.0               1.0   \n",
       "\n",
       "   Ground Service  Inflight Entertainment  Wifi & Connectivity  \\\n",
       "0             4.0                     2.0                  1.0   \n",
       "1             1.0                     2.0                  1.0   \n",
       "2             1.0                     2.0                  1.0   \n",
       "3             1.0                     2.0                  1.0   \n",
       "4             1.0                     1.0                  1.0   \n",
       "\n",
       "   Value For Money Recommended  Total Score  Review Period  sentiment  \\\n",
       "0              3.0         yes         23.0              0          1   \n",
       "1              2.0          no         11.0              0          0   \n",
       "2              2.0          no         10.0              0          1   \n",
       "3              1.0          no          9.0              0          0   \n",
       "4              1.0          no          7.0              0          1   \n",
       "\n",
       "   sentiment_score  \n",
       "0           0.9217  \n",
       "1          -0.0258  \n",
       "2           0.8264  \n",
       "3          -0.9054  \n",
       "4           0.5255  "
      ]
     },
     "execution_count": 2,
     "metadata": {},
     "output_type": "execute_result"
    }
   ],
   "source": [
    "df = pd.read_csv('Airline_review.csv')\n",
    "\n",
    "df.head()"
   ]
  },
  {
   "cell_type": "code",
   "execution_count": 3,
   "metadata": {
    "cell_id": "2c1703c00f3a4f07893cd380abef71ce",
    "deepnote_cell_type": "code",
    "deepnote_to_be_reexecuted": false,
    "execution_millis": 422,
    "execution_start": 1697463808400,
    "source_hash": null
   },
   "outputs": [
    {
     "name": "stderr",
     "output_type": "stream",
     "text": [
      "/usr/local/lib/python3.11/site-packages/sklearn/base.py:465: UserWarning: X does not have valid feature names, but StandardScaler was fitted with feature names\n",
      "  warnings.warn(\n"
     ]
    },
    {
     "data": {
      "text/html": [
       "<div>\n",
       "<style scoped>\n",
       "    .dataframe tbody tr th:only-of-type {\n",
       "        vertical-align: middle;\n",
       "    }\n",
       "\n",
       "    .dataframe tbody tr th {\n",
       "        vertical-align: top;\n",
       "    }\n",
       "\n",
       "    .dataframe thead th {\n",
       "        text-align: right;\n",
       "    }\n",
       "</style>\n",
       "<table border=\"1\" class=\"dataframe\">\n",
       "  <thead>\n",
       "    <tr style=\"text-align: right;\">\n",
       "      <th></th>\n",
       "      <th>Seat Comfort</th>\n",
       "      <th>Cabin Staff Service</th>\n",
       "      <th>Food &amp; Beverages</th>\n",
       "      <th>Ground Service</th>\n",
       "      <th>Inflight Entertainment</th>\n",
       "      <th>Wifi &amp; Connectivity</th>\n",
       "      <th>Value For Money</th>\n",
       "      <th>Recommended</th>\n",
       "      <th>Total Score</th>\n",
       "      <th>Review Period</th>\n",
       "      <th>sentiment</th>\n",
       "    </tr>\n",
       "  </thead>\n",
       "  <tbody>\n",
       "    <tr>\n",
       "      <th>0</th>\n",
       "      <td>4.0</td>\n",
       "      <td>5.0</td>\n",
       "      <td>4.0</td>\n",
       "      <td>4.0</td>\n",
       "      <td>2.0</td>\n",
       "      <td>1.0</td>\n",
       "      <td>3.0</td>\n",
       "      <td>1</td>\n",
       "      <td>23.0</td>\n",
       "      <td>0</td>\n",
       "      <td>1</td>\n",
       "    </tr>\n",
       "    <tr>\n",
       "      <th>1</th>\n",
       "      <td>2.0</td>\n",
       "      <td>2.0</td>\n",
       "      <td>1.0</td>\n",
       "      <td>1.0</td>\n",
       "      <td>2.0</td>\n",
       "      <td>1.0</td>\n",
       "      <td>2.0</td>\n",
       "      <td>0</td>\n",
       "      <td>11.0</td>\n",
       "      <td>0</td>\n",
       "      <td>0</td>\n",
       "    </tr>\n",
       "    <tr>\n",
       "      <th>2</th>\n",
       "      <td>2.0</td>\n",
       "      <td>1.0</td>\n",
       "      <td>1.0</td>\n",
       "      <td>1.0</td>\n",
       "      <td>2.0</td>\n",
       "      <td>1.0</td>\n",
       "      <td>2.0</td>\n",
       "      <td>0</td>\n",
       "      <td>10.0</td>\n",
       "      <td>0</td>\n",
       "      <td>1</td>\n",
       "    </tr>\n",
       "    <tr>\n",
       "      <th>3</th>\n",
       "      <td>1.0</td>\n",
       "      <td>1.0</td>\n",
       "      <td>2.0</td>\n",
       "      <td>1.0</td>\n",
       "      <td>2.0</td>\n",
       "      <td>1.0</td>\n",
       "      <td>1.0</td>\n",
       "      <td>0</td>\n",
       "      <td>9.0</td>\n",
       "      <td>0</td>\n",
       "      <td>0</td>\n",
       "    </tr>\n",
       "    <tr>\n",
       "      <th>4</th>\n",
       "      <td>1.0</td>\n",
       "      <td>1.0</td>\n",
       "      <td>1.0</td>\n",
       "      <td>1.0</td>\n",
       "      <td>1.0</td>\n",
       "      <td>1.0</td>\n",
       "      <td>1.0</td>\n",
       "      <td>0</td>\n",
       "      <td>7.0</td>\n",
       "      <td>0</td>\n",
       "      <td>1</td>\n",
       "    </tr>\n",
       "  </tbody>\n",
       "</table>\n",
       "</div>"
      ],
      "text/plain": [
       "   Seat Comfort  Cabin Staff Service  Food & Beverages  Ground Service  \\\n",
       "0           4.0                  5.0               4.0             4.0   \n",
       "1           2.0                  2.0               1.0             1.0   \n",
       "2           2.0                  1.0               1.0             1.0   \n",
       "3           1.0                  1.0               2.0             1.0   \n",
       "4           1.0                  1.0               1.0             1.0   \n",
       "\n",
       "   Inflight Entertainment  Wifi & Connectivity  Value For Money  Recommended  \\\n",
       "0                     2.0                  1.0              3.0            1   \n",
       "1                     2.0                  1.0              2.0            0   \n",
       "2                     2.0                  1.0              2.0            0   \n",
       "3                     2.0                  1.0              1.0            0   \n",
       "4                     1.0                  1.0              1.0            0   \n",
       "\n",
       "   Total Score  Review Period  sentiment  \n",
       "0         23.0              0          1  \n",
       "1         11.0              0          0  \n",
       "2         10.0              0          1  \n",
       "3          9.0              0          0  \n",
       "4          7.0              0          1  "
      ]
     },
     "execution_count": 3,
     "metadata": {},
     "output_type": "execute_result"
    }
   ],
   "source": [
    "#Compute the percentage for each traveller type\n",
    "\n",
    "# Replace empty and None values with \"Other Type of Travellers\"\n",
    "df['Type Of Traveller'].fillna('Other Type of Travellers', inplace=True)\n",
    "\n",
    "# Dropping [Aircraft. Verfied, Route, Overall_Rating] since it has no value to our research\n",
    "# df.drop('Aircraft', axis=1, inplace=True)\n",
    "# df.drop('Verified', axis=1, inplace=True)\n",
    "# df.drop('Route', axis=1, inplace=True)\n",
    "# df.drop('Overall_Rating', axis=1, inplace=True)\n",
    "\n",
    "# Replacing nan values across the individual ratings columns with same scales\n",
    "columns_to_fill = ['Seat Comfort', \n",
    "                   'Cabin Staff Service', \n",
    "                   'Food & Beverages', \n",
    "                   'Ground Service', \n",
    "                   'Inflight Entertainment', \n",
    "                   'Wifi & Connectivity', \n",
    "                   'Value For Money']\n",
    "\n",
    "# replacing nan values with mean\n",
    "for column in columns_to_fill:\n",
    "    df[column].fillna(int(df[column].mean()), inplace=True)\n",
    "\n",
    "# Creating a new column that sums up the individual ratings\n",
    "df['Total Score'] = df[columns_to_fill].sum(axis=1)\n",
    "\n",
    "# removing non-quantitative & unnecessary attributes\n",
    "df.drop('Review_Title', axis=1, inplace=True)\n",
    "df.drop('Review Date', axis=1, inplace=True)\n",
    "df.drop('Review', axis=1, inplace=True)\n",
    "df.drop('Type Of Traveller', axis=1, inplace=True)\n",
    "df.drop('Seat Type', axis=1, inplace=True)\n",
    "df.drop('sentiment_score', axis=1, inplace=True)\n",
    "\n",
    "# scaling attributes\n",
    "\n",
    "col_name = ['Seat Comfort', \n",
    "            'Cabin Staff Service', \n",
    "            'Food & Beverages',\n",
    "            'Ground Service', \n",
    "            'Inflight Entertainment', \n",
    "            'Wifi & Connectivity', \n",
    "            'Value For Money', \n",
    "            'Total Score',\n",
    "            'sentiment']\n",
    "\n",
    "scaler = StandardScaler()\n",
    "features = df[col_name]\n",
    "scaler.fit(features)\n",
    "features = scaler.transform(features.values)\n",
    "\n",
    "# encoding recommended attribute\n",
    "\n",
    "## Initialize the LabelEncoder\n",
    "label_encoder = LabelEncoder()\n",
    "\n",
    "## Fit and transform the categorical column\n",
    "df['Recommended'] = label_encoder.fit_transform(df['Recommended'])\n",
    "\n",
    "# As we are only interested in pre and post-covid, we will segregate into before-2020 and post-2020 (incl 2020)\n",
    "# Separate the pre-covid and post-covid into two new data frames\n",
    "pre_covid = df[df['Review Period'] == 0]\n",
    "post_covid = df[df['Review Period'] == 1]\n",
    "\n",
    "pre_covid.head()"
   ]
  },
  {
   "cell_type": "markdown",
   "metadata": {
    "cell_id": "14461414dc2147a0b350abb4b9af78e7",
    "deepnote_cell_type": "text-cell-h1",
    "formattedRanges": []
   },
   "source": [
    "# Recommended"
   ]
  },
  {
   "cell_type": "code",
   "execution_count": 4,
   "metadata": {
    "cell_id": "d0f583d951d9489db75b9aaad40a612c",
    "deepnote_cell_type": "code",
    "deepnote_to_be_reexecuted": false,
    "execution_millis": 45,
    "execution_start": 1697463808644,
    "source_hash": null
   },
   "outputs": [],
   "source": [
    "pre_covid2 = pre_covid.copy()\n",
    "pre_covid2.drop('Review Period', axis=1, inplace=True)\n",
    "\n",
    "# dropping target variable\n",
    "X = pre_covid2.drop('Recommended', axis=1)\n",
    "\n",
    "# target variable\n",
    "y = pre_covid2['Recommended']\n",
    "\n",
    "X_train, X_test, y_train, y_test = train_test_split(X, y, test_size=0.2, random_state=42)"
   ]
  },
  {
   "cell_type": "markdown",
   "metadata": {
    "cell_id": "886323645df9473b94390c88960572a7",
    "deepnote_cell_type": "text-cell-h2",
    "formattedRanges": []
   },
   "source": [
    "## Pre-Covid"
   ]
  },
  {
   "cell_type": "markdown",
   "metadata": {
    "cell_id": "6f2cbee34a244a79b8c443e237611739",
    "deepnote_cell_type": "text-cell-h3",
    "formattedRanges": []
   },
   "source": [
    "### No Resampling"
   ]
  },
  {
   "cell_type": "markdown",
   "metadata": {
    "cell_id": "c4d01ede44284c30a2086fc85ce48a68",
    "deepnote_cell_type": "text-cell-p",
    "formattedRanges": [
     {
      "fromCodePoint": 0,
      "marks": {
       "bold": true
      },
      "toCodePoint": 19,
      "type": "marks"
     }
    ]
   },
   "source": [
    "Logistic Regression"
   ]
  },
  {
   "cell_type": "code",
   "execution_count": 5,
   "metadata": {
    "cell_id": "6f6f6ec64e0143bfac4814e61c40fe62",
    "deepnote_cell_type": "code",
    "deepnote_to_be_reexecuted": false,
    "execution_millis": 1384,
    "execution_start": 1697463808663,
    "source_hash": null
   },
   "outputs": [
    {
     "name": "stdout",
     "output_type": "stream",
     "text": [
      "Accuracy: 0.926509186351706\n",
      "Confusion Matrix:\n",
      "[[1170   84]\n",
      " [  84  948]]\n",
      "Classification Report:\n",
      "              precision    recall  f1-score   support\n",
      "\n",
      "           0       0.93      0.93      0.93      1254\n",
      "           1       0.92      0.92      0.92      1032\n",
      "\n",
      "    accuracy                           0.93      2286\n",
      "   macro avg       0.93      0.93      0.93      2286\n",
      "weighted avg       0.93      0.93      0.93      2286\n",
      "\n"
     ]
    }
   ],
   "source": [
    "modelA = LogisticRegression()\n",
    "modelA.fit(X_train, y_train)\n",
    "\n",
    "y_predA = modelA.predict(X_test)\n",
    "\n",
    "accuracy = accuracy_score(y_test, y_predA)\n",
    "confusion = confusion_matrix(y_test, y_predA)\n",
    "classification_rep = classification_report(y_test, y_predA)\n",
    "\n",
    "print(f'Accuracy: {accuracy}')\n",
    "print(f'Confusion Matrix:\\n{confusion}')\n",
    "print(f'Classification Report:\\n{classification_rep}')"
   ]
  },
  {
   "cell_type": "code",
   "execution_count": 6,
   "metadata": {},
   "outputs": [
    {
     "data": {
      "image/png": "[encoded data removed]",
      "text/plain": [
       "<Figure size 1000x600 with 1 Axes>"
      ]
     },
     "metadata": {},
     "output_type": "display_data"
    }
   ],
   "source": [
    "coef_names = ['Seat Comfort',\n",
    "              'Cabin Staff Service',\n",
    "              'Food & Beverages',\n",
    "              'Ground Service',\n",
    "              'Inflight Entertainment',\n",
    "              'Wifi & Connectivity',\n",
    "              'Value For Money',\n",
    "              'Total Score',\n",
    "              'sentiment']  \n",
    "\n",
    "coef_values = modelA.coef_[0]\n",
    "\n",
    "plt.figure(figsize=(10, 6))\n",
    "sns.barplot(x=coef_values, y=coef_names)\n",
    "plt.xlabel('Coefficient Value')\n",
    "plt.ylabel('Independent Variables')\n",
    "plt.title('Logistic Regression Coefficients')\n",
    "plt.show()"
   ]
  },
  {
   "cell_type": "markdown",
   "metadata": {
    "cell_id": "ed35a2ae82fb4866875b79a8d6edf717",
    "deepnote_cell_type": "text-cell-p",
    "formattedRanges": [
     {
      "fromCodePoint": 0,
      "marks": {
       "bold": true
      },
      "toCodePoint": 13,
      "type": "marks"
     }
    ]
   },
   "source": [
    "Decision Tree"
   ]
  },
  {
   "cell_type": "code",
   "execution_count": 7,
   "metadata": {
    "cell_id": "662b268f3ab54f70a6f69269d60857a5",
    "deepnote_cell_type": "code",
    "deepnote_to_be_reexecuted": false,
    "execution_millis": 441,
    "execution_start": 1697463810033,
    "source_hash": null
   },
   "outputs": [
    {
     "name": "stdout",
     "output_type": "stream",
     "text": [
      "Accuracy: 0.93\n",
      "Precision: 0.93\n",
      "Recall: 0.91\n",
      "F1-score: 0.92\n",
      "Confusion Matrix:\n",
      "[[1178   76]\n",
      " [  94  938]]\n"
     ]
    }
   ],
   "source": [
    "# decision tree classifier\n",
    "tree_classifierA = DecisionTreeClassifier()\n",
    "tree_classifierA.fit(X_train, y_train)\n",
    "\n",
    "## making predictions using decision tree classifier\n",
    "y_pred = tree_classifierA.predict(X_test)\n",
    "\n",
    "param_grid = {\n",
    "    'max_depth': [None, 10, 20, 30],\n",
    "    'min_samples_split': [2, 5, 10],\n",
    "    'min_samples_leaf': [1, 2, 4]\n",
    "}\n",
    "\n",
    "grid_search = GridSearchCV(tree_classifierA, param_grid, cv=5)\n",
    "grid_search.fit(X_train, y_train)\n",
    "\n",
    "best_tree_classifierA = grid_search.best_estimator_\n",
    "\n",
    "# evaluation metrics\n",
    "\n",
    "y_predB = best_tree_classifierA.predict(X_test)\n",
    "\n",
    "# Calculate accuracy\n",
    "accuracy = accuracy_score(y_test, y_predB)\n",
    "print(f'Accuracy: {accuracy:.2f}')\n",
    "\n",
    "# Calculate precision\n",
    "precision = precision_score(y_test, y_predB)\n",
    "print(f'Precision: {precision:.2f}')\n",
    "\n",
    "# Calculate recall\n",
    "recall = recall_score(y_test, y_predB)\n",
    "print(f'Recall: {recall:.2f}')\n",
    "\n",
    "# Calculate F1-score\n",
    "f1 = f1_score(y_test, y_predB)\n",
    "print(f'F1-score: {f1:.2f}')\n",
    "\n",
    "# Generate a confusion matrix\n",
    "conf_matrix = confusion_matrix(y_test, y_predB)\n",
    "print('Confusion Matrix:')\n",
    "print(conf_matrix)"
   ]
  },
  {
   "cell_type": "markdown",
   "metadata": {
    "cell_id": "4e0ba30e2c1f4caea2f42db5a34ca9df",
    "deepnote_cell_type": "text-cell-p",
    "formattedRanges": [
     {
      "fromCodePoint": 0,
      "marks": {
       "bold": true
      },
      "toCodePoint": 13,
      "type": "marks"
     }
    ]
   },
   "source": [
    "Random Forest"
   ]
  },
  {
   "cell_type": "code",
   "execution_count": 8,
   "metadata": {
    "cell_id": "e8bb725164084a7fb56263419635d038",
    "deepnote_cell_type": "code",
    "deepnote_to_be_reexecuted": false,
    "execution_millis": 2246,
    "execution_start": 1697463821312,
    "source_hash": null
   },
   "outputs": [
    {
     "name": "stdout",
     "output_type": "stream",
     "text": [
      "Confusion Matrix:\n",
      "[[1178   76]\n",
      " [  94  938]]\n",
      "\n",
      "Classification Report:\n",
      "              precision    recall  f1-score   support\n",
      "\n",
      "           0       0.93      0.93      0.93      1254\n",
      "           1       0.92      0.92      0.92      1032\n",
      "\n",
      "    accuracy                           0.93      2286\n",
      "   macro avg       0.93      0.93      0.93      2286\n",
      "weighted avg       0.93      0.93      0.93      2286\n",
      "\n"
     ]
    }
   ],
   "source": [
    "# Create a Random Forest classifier\n",
    "rf_classifier = RandomForestClassifier(n_estimators=100, random_state=42)\n",
    "\n",
    "# Fit the classifier to the training data\n",
    "rf_classifier.fit(X_train, y_train)\n",
    "\n",
    "# Make predictions on the test data\n",
    "y_pred = rf_classifier.predict(X_test)\n",
    "\n",
    "print(\"Confusion Matrix:\")\n",
    "print(conf_matrix)\n",
    "print(\"\\nClassification Report:\")\n",
    "print(classification_rep)"
   ]
  },
  {
   "cell_type": "code",
   "execution_count": 9,
   "metadata": {},
   "outputs": [
    {
     "data": {
      "image/png": "[encoded data removed]",
      "text/plain": [
       "<Figure size 1000x600 with 1 Axes>"
      ]
     },
     "metadata": {},
     "output_type": "display_data"
    }
   ],
   "source": [
    "coef_names = ['Seat Comfort',\n",
    "              'Cabin Staff Service',\n",
    "              'Food & Beverages',\n",
    "              'Ground Service',\n",
    "              'Inflight Entertainment',\n",
    "              'Wifi & Connectivity',\n",
    "              'Value For Money',\n",
    "              'Total Score',\n",
    "              'sentiment'] \n",
    "\n",
    "# Get feature importances\n",
    "feature_importances = rf_classifier.feature_importances_\n",
    "\n",
    "# Create a pandas DataFrame to store the importances and corresponding feature names\n",
    "importance_df = pd.DataFrame({'Feature': coef_names, 'Importance': feature_importances})\n",
    "\n",
    "# Sort the DataFrame by importance values (optional but makes the plot look cleaner)\n",
    "importance_df = importance_df.sort_values(by='Importance', ascending=False)\n",
    "\n",
    "# Create a bar plot for feature importances\n",
    "plt.figure(figsize=(10, 6))\n",
    "plt.barh(importance_df['Feature'], importance_df['Importance'])\n",
    "plt.xlabel('Feature Importance')\n",
    "plt.ylabel('Feature')\n",
    "plt.title('Feature Importance Plot')\n",
    "plt.show()"
   ]
  },
  {
   "cell_type": "markdown",
   "metadata": {
    "cell_id": "6dc5c0275c96472b89bab614cf24d0cf",
    "deepnote_cell_type": "text-cell-h3",
    "formattedRanges": []
   },
   "source": [
    "### Sequential Application"
   ]
  },
  {
   "cell_type": "code",
   "execution_count": 10,
   "metadata": {
    "cell_id": "3fb2d9251a1c473ca1628c5cc935b396",
    "deepnote_cell_type": "code",
    "deepnote_to_be_reexecuted": false,
    "execution_millis": 329,
    "execution_start": 1697463823547,
    "source_hash": null
   },
   "outputs": [],
   "source": [
    "# smote\n",
    "\n",
    "smote = SMOTE(sampling_strategy='auto', random_state=42)\n",
    "X_train1, y_train1 = smote.fit_resample(X_train, y_train)\n",
    "\n",
    "# enn\n",
    "\n",
    "enn = EditedNearestNeighbours(sampling_strategy='auto', n_neighbors=3)\n",
    "X_train2, y_train2 = enn.fit_resample(X_train1, y_train1)\n",
    "\n",
    "# smoteenn\n",
    "\n",
    "smote_enn = SMOTEENN(sampling_strategy='auto', random_state=42)\n",
    "X_train3, y_train3 = smote_enn.fit_resample(X_train2, y_train2)"
   ]
  },
  {
   "cell_type": "markdown",
   "metadata": {
    "cell_id": "5a2bd578423d43c6bb0061a1af7a55a2",
    "deepnote_cell_type": "text-cell-p",
    "formattedRanges": [
     {
      "fromCodePoint": 0,
      "marks": {
       "bold": true
      },
      "toCodePoint": 19,
      "type": "marks"
     }
    ],
    "is_collapsed": false
   },
   "source": [
    "Logistic Regression"
   ]
  },
  {
   "cell_type": "code",
   "execution_count": 11,
   "metadata": {
    "cell_id": "52e2db28d6364c1e8d2c9eb6e653e901",
    "deepnote_cell_type": "code",
    "deepnote_to_be_reexecuted": false,
    "execution_millis": 3573,
    "execution_start": 1697463825635,
    "source_hash": null
   },
   "outputs": [
    {
     "name": "stdout",
     "output_type": "stream",
     "text": [
      "Accuracy: 0.8534558180227472\n",
      "Confusion Matrix:\n",
      "[[1196   58]\n",
      " [ 277  755]]\n",
      "Classification Report:\n",
      "              precision    recall  f1-score   support\n",
      "\n",
      "           0       0.81      0.95      0.88      1254\n",
      "           1       0.93      0.73      0.82      1032\n",
      "\n",
      "    accuracy                           0.85      2286\n",
      "   macro avg       0.87      0.84      0.85      2286\n",
      "weighted avg       0.86      0.85      0.85      2286\n",
      "\n"
     ]
    }
   ],
   "source": [
    "model = LogisticRegression()\n",
    "model.fit(X_train3, y_train3)\n",
    "\n",
    "y_pred = model.predict(X_test)\n",
    "\n",
    "accuracy = accuracy_score(y_test, y_pred)\n",
    "confusion = confusion_matrix(y_test, y_pred)\n",
    "classification_rep = classification_report(y_test, y_pred)\n",
    "\n",
    "print(f'Accuracy: {accuracy}')\n",
    "print(f'Confusion Matrix:\\n{confusion}')\n",
    "print(f'Classification Report:\\n{classification_rep}')"
   ]
  },
  {
   "cell_type": "markdown",
   "metadata": {
    "cell_id": "edc9b8c9191b4dc4a101c0d40c33405a",
    "deepnote_cell_type": "text-cell-p",
    "formattedRanges": [
     {
      "fromCodePoint": 0,
      "marks": {
       "bold": true
      },
      "toCodePoint": 13,
      "type": "marks"
     }
    ],
    "is_collapsed": false
   },
   "source": [
    "Decision Tree"
   ]
  },
  {
   "cell_type": "code",
   "execution_count": 12,
   "metadata": {
    "cell_id": "cff8bd1d6b4d4cb08ac4d755818b9743",
    "deepnote_cell_type": "code",
    "deepnote_to_be_reexecuted": false,
    "execution_millis": 194,
    "execution_start": 1697463829261,
    "source_hash": null
   },
   "outputs": [
    {
     "name": "stdout",
     "output_type": "stream",
     "text": [
      "Accuracy: 0.86\n",
      "Precision: 0.94\n",
      "Recall: 0.72\n",
      "F1-score: 0.82\n",
      "Confusion Matrix:\n",
      "[[1210   44]\n",
      " [ 287  745]]\n"
     ]
    }
   ],
   "source": [
    "# decision tree classifier\n",
    "tree_classifier = DecisionTreeClassifier()\n",
    "tree_classifier.fit(X_train3, y_train3)\n",
    "\n",
    "## making predictions using decision tree classifier\n",
    "y_pred = tree_classifier.predict(X_test)\n",
    "\n",
    "param_grid = {\n",
    "    'max_depth': [None, 10, 20, 30],\n",
    "    'min_samples_split': [2, 5, 10],\n",
    "    'min_samples_leaf': [1, 2, 4]\n",
    "}\n",
    "\n",
    "grid_search = GridSearchCV(DecisionTreeClassifier(), param_grid, cv=5)\n",
    "grid_search.fit(X_train3, y_train3)\n",
    "\n",
    "best_tree_classifier = grid_search.best_estimator_\n",
    "\n",
    "# evaluation metrics\n",
    "\n",
    "y_pred = best_tree_classifier.predict(X_test)\n",
    "\n",
    "# Calculate accuracy\n",
    "accuracy = accuracy_score(y_test, y_pred)\n",
    "print(f'Accuracy: {accuracy:.2f}')\n",
    "\n",
    "# Calculate precision\n",
    "precision = precision_score(y_test, y_pred)\n",
    "print(f'Precision: {precision:.2f}')\n",
    "\n",
    "# Calculate recall\n",
    "recall = recall_score(y_test, y_pred)\n",
    "print(f'Recall: {recall:.2f}')\n",
    "\n",
    "# Calculate F1-score\n",
    "f1 = f1_score(y_test, y_pred)\n",
    "print(f'F1-score: {f1:.2f}')\n",
    "\n",
    "# Generate a confusion matrix\n",
    "conf_matrix = confusion_matrix(y_test, y_pred)\n",
    "print('Confusion Matrix:')\n",
    "print(conf_matrix)"
   ]
  },
  {
   "cell_type": "markdown",
   "metadata": {
    "cell_id": "68515cde396044e5ba8441ad1fb5d5e8",
    "deepnote_cell_type": "text-cell-p",
    "formattedRanges": [
     {
      "fromCodePoint": 0,
      "marks": {
       "bold": true
      },
      "toCodePoint": 13,
      "type": "marks"
     }
    ],
    "is_collapsed": false
   },
   "source": [
    "Random Forest"
   ]
  },
  {
   "cell_type": "code",
   "execution_count": 13,
   "metadata": {
    "cell_id": "2fd78c600d454560abd4f020b6f68ea4",
    "deepnote_cell_type": "code",
    "deepnote_to_be_reexecuted": false,
    "execution_millis": 1464,
    "execution_start": 1697463838615,
    "source_hash": null
   },
   "outputs": [
    {
     "name": "stdout",
     "output_type": "stream",
     "text": [
      "Confusion Matrix:\n",
      "[[1210   44]\n",
      " [ 287  745]]\n",
      "\n",
      "Classification Report:\n",
      "              precision    recall  f1-score   support\n",
      "\n",
      "           0       0.81      0.95      0.88      1254\n",
      "           1       0.93      0.73      0.82      1032\n",
      "\n",
      "    accuracy                           0.85      2286\n",
      "   macro avg       0.87      0.84      0.85      2286\n",
      "weighted avg       0.86      0.85      0.85      2286\n",
      "\n"
     ]
    }
   ],
   "source": [
    "# Create a Random Forest classifier\n",
    "rf_classifier = RandomForestClassifier(n_estimators=100, random_state=42)\n",
    "\n",
    "# Fit the classifier to the training data\n",
    "rf_classifier.fit(X_train3, y_train3)\n",
    "\n",
    "# Make predictions on the test data\n",
    "y_pred = rf_classifier.predict(X_test)\n",
    "\n",
    "print(\"Confusion Matrix:\")\n",
    "print(conf_matrix)\n",
    "print(\"\\nClassification Report:\")\n",
    "print(classification_rep)"
   ]
  },
  {
   "cell_type": "markdown",
   "metadata": {
    "cell_id": "3d11056522284ac2a889a0f89eb3f278",
    "deepnote_cell_type": "text-cell-h3",
    "formattedRanges": []
   },
   "source": [
    "### Parallel Application"
   ]
  },
  {
   "cell_type": "markdown",
   "metadata": {
    "cell_id": "11583ff0ff88410598924ed57bcc185a",
    "deepnote_cell_type": "text-cell-p",
    "formattedRanges": [
     {
      "fromCodePoint": 0,
      "marks": {
       "bold": true
      },
      "toCodePoint": 5,
      "type": "marks"
     }
    ]
   },
   "source": [
    "SMOTE"
   ]
  },
  {
   "cell_type": "markdown",
   "metadata": {
    "cell_id": "eec0ea51acc8429a9775f992fdba824e",
    "deepnote_cell_type": "text-cell-p",
    "formattedRanges": [
     {
      "fromCodePoint": 0,
      "marks": {
       "underline": true
      },
      "toCodePoint": 19,
      "type": "marks"
     }
    ]
   },
   "source": [
    "Logistic Regression"
   ]
  },
  {
   "cell_type": "code",
   "execution_count": 14,
   "metadata": {
    "cell_id": "4e1e8c4d86774c84ae8d81c16798f9e8",
    "deepnote_cell_type": "code",
    "deepnote_to_be_reexecuted": false,
    "execution_millis": 134,
    "execution_start": 1697463851233,
    "source_hash": null
   },
   "outputs": [
    {
     "name": "stdout",
     "output_type": "stream",
     "text": [
      "Accuracy: 0.9238845144356955\n",
      "Confusion Matrix:\n",
      "[[1155   99]\n",
      " [  75  957]]\n",
      "Classification Report:\n",
      "              precision    recall  f1-score   support\n",
      "\n",
      "           0       0.94      0.92      0.93      1254\n",
      "           1       0.91      0.93      0.92      1032\n",
      "\n",
      "    accuracy                           0.92      2286\n",
      "   macro avg       0.92      0.92      0.92      2286\n",
      "weighted avg       0.92      0.92      0.92      2286\n",
      "\n"
     ]
    }
   ],
   "source": [
    "# smote\n",
    "\n",
    "smote = SMOTE(sampling_strategy='auto', random_state=42)\n",
    "X_train1, y_train1 = smote.fit_resample(X_train, y_train)\n",
    "\n",
    "model1 = LogisticRegression()\n",
    "model1.fit(X_train1, y_train1)\n",
    "\n",
    "y_pred1 = model1.predict(X_test)\n",
    "\n",
    "accuracy = accuracy_score(y_test, y_pred1)\n",
    "confusion = confusion_matrix(y_test, y_pred1)\n",
    "classification_rep = classification_report(y_test, y_pred1)\n",
    "\n",
    "print(f'Accuracy: {accuracy}')\n",
    "print(f'Confusion Matrix:\\n{confusion}')\n",
    "print(f'Classification Report:\\n{classification_rep}')"
   ]
  },
  {
   "cell_type": "markdown",
   "metadata": {
    "cell_id": "18507f85c749409aa732c40162990a40",
    "deepnote_cell_type": "text-cell-p",
    "formattedRanges": [
     {
      "fromCodePoint": 0,
      "marks": {
       "underline": true
      },
      "toCodePoint": 13,
      "type": "marks"
     }
    ]
   },
   "source": [
    "Decision Tree"
   ]
  },
  {
   "cell_type": "code",
   "execution_count": 15,
   "metadata": {
    "cell_id": "dffd237c83de461ca037b1ed44cb9b98",
    "deepnote_cell_type": "code",
    "deepnote_to_be_reexecuted": false,
    "execution_millis": 372,
    "execution_start": 1697463879333,
    "source_hash": null
   },
   "outputs": [
    {
     "name": "stdout",
     "output_type": "stream",
     "text": [
      "Accuracy: 0.92\n",
      "Precision: 0.92\n",
      "Recall: 0.91\n",
      "F1-score: 0.91\n",
      "Confusion Matrix:\n",
      "[[1177   77]\n",
      " [  97  935]]\n"
     ]
    }
   ],
   "source": [
    "tree_classifier1 = DecisionTreeClassifier()\n",
    "tree_classifier1.fit(X_train1, y_train1)\n",
    "\n",
    "# making predictions using decision tree classifier\n",
    "y_pred1 = tree_classifier1.predict(X_test)\n",
    "\n",
    "param_grid = {\n",
    "    'max_depth': [None, 10, 20, 30],\n",
    "    'min_samples_split': [2, 5, 10],\n",
    "    'min_samples_leaf': [1, 2, 4]\n",
    "}\n",
    "\n",
    "grid_search = GridSearchCV(tree_classifier1, param_grid, cv=5)\n",
    "grid_search.fit(X_train1, y_train1)\n",
    "\n",
    "best_tree_classifier1 = grid_search.best_estimator_\n",
    "\n",
    "# evaluation metrics\n",
    "\n",
    "y_pred = best_tree_classifier1.predict(X_test)\n",
    "\n",
    "# Calculate accuracy\n",
    "accuracy = accuracy_score(y_test, y_pred1)\n",
    "print(f'Accuracy: {accuracy:.2f}')\n",
    "\n",
    "# Calculate precision\n",
    "precision = precision_score(y_test, y_pred1)\n",
    "print(f'Precision: {precision:.2f}')\n",
    "\n",
    "# Calculate recall\n",
    "recall = recall_score(y_test, y_pred1)\n",
    "print(f'Recall: {recall:.2f}')\n",
    "\n",
    "# Calculate F1-score\n",
    "f1 = f1_score(y_test, y_pred1)\n",
    "print(f'F1-score: {f1:.2f}')\n",
    "\n",
    "# Generate a confusion matrix\n",
    "conf_matrix = confusion_matrix(y_test, y_pred1)\n",
    "print('Confusion Matrix:')\n",
    "print(conf_matrix)"
   ]
  },
  {
   "cell_type": "markdown",
   "metadata": {
    "cell_id": "1318c43512a84b9a93c93375a112f173",
    "deepnote_cell_type": "text-cell-p",
    "formattedRanges": [
     {
      "fromCodePoint": 0,
      "marks": {
       "underline": true
      },
      "toCodePoint": 13,
      "type": "marks"
     }
    ]
   },
   "source": [
    "Random Forest"
   ]
  },
  {
   "cell_type": "code",
   "execution_count": 16,
   "metadata": {
    "cell_id": "ad935d23682846639b0b88c688b2e33c",
    "deepnote_cell_type": "code",
    "deepnote_to_be_reexecuted": false,
    "execution_millis": 2206,
    "execution_start": 1697463879547,
    "source_hash": null
   },
   "outputs": [
    {
     "name": "stdout",
     "output_type": "stream",
     "text": [
      "Confusion Matrix:\n",
      "[[1177   77]\n",
      " [  97  935]]\n",
      "\n",
      "Classification Report:\n",
      "              precision    recall  f1-score   support\n",
      "\n",
      "           0       0.94      0.92      0.93      1254\n",
      "           1       0.91      0.93      0.92      1032\n",
      "\n",
      "    accuracy                           0.92      2286\n",
      "   macro avg       0.92      0.92      0.92      2286\n",
      "weighted avg       0.92      0.92      0.92      2286\n",
      "\n"
     ]
    }
   ],
   "source": [
    "# Create a Random Forest classifier\n",
    "rf_classifier = RandomForestClassifier(n_estimators=100, random_state=42)\n",
    "\n",
    "# Fit the classifier to the training data\n",
    "rf_classifier.fit(X_train1, y_train1)\n",
    "\n",
    "# Make predictions on the test data\n",
    "y_pred = rf_classifier.predict(X_test)\n",
    "\n",
    "print(\"Confusion Matrix:\")\n",
    "print(conf_matrix)\n",
    "print(\"\\nClassification Report:\")\n",
    "print(classification_rep)"
   ]
  },
  {
   "cell_type": "markdown",
   "metadata": {
    "cell_id": "b061a9bbdd594490b6f2dd801df26c08",
    "deepnote_cell_type": "text-cell-p",
    "formattedRanges": [
     {
      "fromCodePoint": 0,
      "marks": {
       "bold": true
      },
      "toCodePoint": 3,
      "type": "marks"
     }
    ]
   },
   "source": [
    "ENN"
   ]
  },
  {
   "cell_type": "markdown",
   "metadata": {
    "cell_id": "7ada8046a1604e879ce2b9f62733c605",
    "deepnote_cell_type": "text-cell-p",
    "formattedRanges": [
     {
      "fromCodePoint": 0,
      "marks": {
       "underline": true
      },
      "toCodePoint": 19,
      "type": "marks"
     }
    ]
   },
   "source": [
    "Logistic Regression"
   ]
  },
  {
   "cell_type": "code",
   "execution_count": 17,
   "metadata": {
    "allow_embed": false,
    "cell_id": "0c48587ade114c79b833a3ea0e5aa41d",
    "deepnote_cell_type": "code",
    "deepnote_to_be_reexecuted": false,
    "execution_millis": 58,
    "execution_start": 1697463851387,
    "source_hash": null
   },
   "outputs": [
    {
     "name": "stdout",
     "output_type": "stream",
     "text": [
      "Accuracy: 0.9138232720909887\n",
      "Confusion Matrix:\n",
      "[[1112  142]\n",
      " [  55  977]]\n",
      "Classification Report:\n",
      "              precision    recall  f1-score   support\n",
      "\n",
      "           0       0.95      0.89      0.92      1254\n",
      "           1       0.87      0.95      0.91      1032\n",
      "\n",
      "    accuracy                           0.91      2286\n",
      "   macro avg       0.91      0.92      0.91      2286\n",
      "weighted avg       0.92      0.91      0.91      2286\n",
      "\n"
     ]
    }
   ],
   "source": [
    "# enn\n",
    "\n",
    "enn = EditedNearestNeighbours(sampling_strategy='auto', n_neighbors=3)\n",
    "X_train2, y_train2 = enn.fit_resample(X_train, y_train)\n",
    "\n",
    "model2 = LogisticRegression()\n",
    "model2.fit(X_train2, y_train2)\n",
    "\n",
    "y_pred2 = model2.predict(X_test)\n",
    "\n",
    "accuracy = accuracy_score(y_test, y_pred2)\n",
    "confusion = confusion_matrix(y_test, y_pred2)\n",
    "classification_rep = classification_report(y_test, y_pred2)\n",
    "\n",
    "print(f'Accuracy: {accuracy}')\n",
    "print(f'Confusion Matrix:\\n{confusion}')\n",
    "print(f'Classification Report:\\n{classification_rep}')"
   ]
  },
  {
   "cell_type": "markdown",
   "metadata": {
    "cell_id": "a86b6f54e40b4eccaead1c3f4c2a04a8",
    "deepnote_cell_type": "text-cell-p",
    "formattedRanges": [
     {
      "fromCodePoint": 0,
      "marks": {
       "underline": true
      },
      "toCodePoint": 13,
      "type": "marks"
     }
    ]
   },
   "source": [
    "Decision Tree"
   ]
  },
  {
   "cell_type": "code",
   "execution_count": 18,
   "metadata": {
    "allow_embed": false,
    "cell_id": "040ea46b6c534fdc9c2ef41ebf12997f",
    "deepnote_cell_type": "code",
    "deepnote_to_be_reexecuted": false,
    "execution_millis": 342,
    "execution_start": 1697463879345,
    "source_hash": null
   },
   "outputs": [
    {
     "name": "stdout",
     "output_type": "stream",
     "text": [
      "Accuracy: 0.85\n",
      "Precision: 0.77\n",
      "Recall: 0.96\n",
      "F1-score: 0.85\n",
      "Confusion Matrix:\n",
      "[[952 302]\n",
      " [ 42 990]]\n"
     ]
    }
   ],
   "source": [
    "tree_classifier2 = DecisionTreeClassifier()\n",
    "tree_classifier2.fit(X_train2, y_train2)\n",
    "\n",
    "# making predictions using decision tree classifier\n",
    "y_pred2 = tree_classifier2.predict(X_test)\n",
    "\n",
    "param_grid = {\n",
    "    'max_depth': [None, 10, 20, 30],\n",
    "    'min_samples_split': [2, 5, 10],\n",
    "    'min_samples_leaf': [1, 2, 4]\n",
    "}\n",
    "\n",
    "grid_search = GridSearchCV(tree_classifier2, param_grid, cv=5)\n",
    "grid_search.fit(X_train2, y_train2)\n",
    "\n",
    "best_tree_classifier2 = grid_search.best_estimator_\n",
    "\n",
    "# evaluation metrics\n",
    "\n",
    "y_pred = best_tree_classifier2.predict(X_test)\n",
    "\n",
    "# Calculate accuracy\n",
    "accuracy = accuracy_score(y_test, y_pred2)\n",
    "print(f'Accuracy: {accuracy:.2f}')\n",
    "\n",
    "# Calculate precision\n",
    "precision = precision_score(y_test, y_pred2)\n",
    "print(f'Precision: {precision:.2f}')\n",
    "\n",
    "# Calculate recall\n",
    "recall = recall_score(y_test, y_pred2)\n",
    "print(f'Recall: {recall:.2f}')\n",
    "\n",
    "# Calculate F1-score\n",
    "f1 = f1_score(y_test, y_pred2)\n",
    "print(f'F1-score: {f1:.2f}')\n",
    "\n",
    "# Generate a confusion matrix\n",
    "conf_matrix = confusion_matrix(y_test, y_pred2)\n",
    "print('Confusion Matrix:')\n",
    "print(conf_matrix)"
   ]
  },
  {
   "cell_type": "markdown",
   "metadata": {
    "cell_id": "e985a593830b4ec3ad66b5490ee3c792",
    "deepnote_cell_type": "text-cell-p",
    "formattedRanges": [
     {
      "fromCodePoint": 0,
      "marks": {
       "underline": true
      },
      "toCodePoint": 13,
      "type": "marks"
     }
    ]
   },
   "source": [
    "Random Forest"
   ]
  },
  {
   "cell_type": "code",
   "execution_count": 19,
   "metadata": {
    "allow_embed": false,
    "cell_id": "3037d146acbf4066b2591bf38e1e30e6",
    "deepnote_cell_type": "code",
    "deepnote_to_be_reexecuted": false,
    "execution_millis": 1736,
    "execution_start": 1697463881739,
    "source_hash": null
   },
   "outputs": [
    {
     "name": "stdout",
     "output_type": "stream",
     "text": [
      "Confusion Matrix:\n",
      "[[952 302]\n",
      " [ 42 990]]\n",
      "\n",
      "Classification Report:\n",
      "              precision    recall  f1-score   support\n",
      "\n",
      "           0       0.95      0.89      0.92      1254\n",
      "           1       0.87      0.95      0.91      1032\n",
      "\n",
      "    accuracy                           0.91      2286\n",
      "   macro avg       0.91      0.92      0.91      2286\n",
      "weighted avg       0.92      0.91      0.91      2286\n",
      "\n"
     ]
    }
   ],
   "source": [
    "# Create a Random Forest classifier\n",
    "rf_classifier = RandomForestClassifier(n_estimators=100, random_state=42)\n",
    "\n",
    "# Fit the classifier to the training data\n",
    "rf_classifier.fit(X_train2, y_train2)\n",
    "\n",
    "# Make predictions on the test data\n",
    "y_pred = rf_classifier.predict(X_test)\n",
    "\n",
    "print(\"Confusion Matrix:\")\n",
    "print(conf_matrix)\n",
    "print(\"\\nClassification Report:\")\n",
    "print(classification_rep)"
   ]
  },
  {
   "cell_type": "markdown",
   "metadata": {
    "cell_id": "519bd87ff448472a820d3bad827ac13f",
    "deepnote_cell_type": "text-cell-p",
    "formattedRanges": [
     {
      "fromCodePoint": 0,
      "marks": {
       "bold": true
      },
      "toCodePoint": 9,
      "type": "marks"
     }
    ]
   },
   "source": [
    "SMOTE-ENN"
   ]
  },
  {
   "cell_type": "markdown",
   "metadata": {
    "cell_id": "da4a6d3b09694227a1f79a5e1e3b1739",
    "deepnote_cell_type": "text-cell-p",
    "formattedRanges": [
     {
      "fromCodePoint": 0,
      "marks": {
       "underline": true
      },
      "toCodePoint": 19,
      "type": "marks"
     }
    ]
   },
   "source": [
    "Logistic Regression"
   ]
  },
  {
   "cell_type": "code",
   "execution_count": 20,
   "metadata": {
    "allow_embed": false,
    "cell_id": "5e1bcb8b28ee49d0b8a8da7a0ea97200",
    "deepnote_cell_type": "code",
    "deepnote_to_be_reexecuted": false,
    "execution_millis": 59,
    "execution_start": 1697463851429,
    "source_hash": null
   },
   "outputs": [
    {
     "name": "stdout",
     "output_type": "stream",
     "text": [
      "Accuracy: 0.9230096237970253\n",
      "Confusion Matrix:\n",
      "[[1148  106]\n",
      " [  70  962]]\n",
      "Classification Report:\n",
      "              precision    recall  f1-score   support\n",
      "\n",
      "           0       0.94      0.92      0.93      1254\n",
      "           1       0.90      0.93      0.92      1032\n",
      "\n",
      "    accuracy                           0.92      2286\n",
      "   macro avg       0.92      0.92      0.92      2286\n",
      "weighted avg       0.92      0.92      0.92      2286\n",
      "\n"
     ]
    }
   ],
   "source": [
    "# smoteenn\n",
    "\n",
    "smote_enn = SMOTEENN(sampling_strategy='auto', random_state=42)\n",
    "X_train3, y_train3 = smote_enn.fit_resample(X_train, y_train)\n",
    "\n",
    "model3 = LogisticRegression()\n",
    "model3.fit(X_train3, y_train3)\n",
    "\n",
    "y_pred3 = model3.predict(X_test)\n",
    "\n",
    "accuracy = accuracy_score(y_test, y_pred3)\n",
    "confusion = confusion_matrix(y_test, y_pred3)\n",
    "classification_rep = classification_report(y_test, y_pred3)\n",
    "\n",
    "print(f'Accuracy: {accuracy}')\n",
    "print(f'Confusion Matrix:\\n{confusion}')\n",
    "print(f'Classification Report:\\n{classification_rep}')"
   ]
  },
  {
   "cell_type": "markdown",
   "metadata": {
    "cell_id": "97ead19e053b4b1bba0599d84c4d1121",
    "deepnote_cell_type": "text-cell-p",
    "formattedRanges": [
     {
      "fromCodePoint": 0,
      "marks": {
       "underline": true
      },
      "toCodePoint": 13,
      "type": "marks"
     }
    ]
   },
   "source": [
    "Decision Tree"
   ]
  },
  {
   "cell_type": "code",
   "execution_count": 21,
   "metadata": {
    "allow_embed": false,
    "cell_id": "aa140c117cb64016ad4bb5eab6f8b7ac",
    "deepnote_cell_type": "code",
    "deepnote_to_be_reexecuted": false,
    "execution_millis": 81,
    "execution_start": 1697463879543,
    "source_hash": null
   },
   "outputs": [
    {
     "name": "stdout",
     "output_type": "stream",
     "text": [
      "Accuracy: 0.93\n",
      "Precision: 0.91\n",
      "Recall: 0.94\n",
      "F1-score: 0.92\n",
      "Confusion Matrix:\n",
      "[[1161   93]\n",
      " [  67  965]]\n"
     ]
    }
   ],
   "source": [
    "tree_classifier3 = DecisionTreeClassifier()\n",
    "tree_classifier3.fit(X_train3, y_train3)\n",
    "\n",
    "# making predictions using decision tree classifier\n",
    "y_pred3 = tree_classifier3.predict(X_test)\n",
    "\n",
    "param_grid = {\n",
    "    'max_depth': [None, 10, 20, 30],\n",
    "    'min_samples_split': [2, 5, 10],\n",
    "    'min_samples_leaf': [1, 2, 4]\n",
    "}\n",
    "\n",
    "grid_search = GridSearchCV(tree_classifier3, param_grid, cv=5)\n",
    "grid_search.fit(X_train3, y_train3)\n",
    "\n",
    "best_tree_classifier3 = grid_search.best_estimator_\n",
    "\n",
    "# evaluation metrics\n",
    "\n",
    "y_pred = best_tree_classifier3.predict(X_test)\n",
    "\n",
    "# Calculate accuracy\n",
    "accuracy = accuracy_score(y_test, y_pred3)\n",
    "print(f'Accuracy: {accuracy:.2f}')\n",
    "\n",
    "# Calculate precision\n",
    "precision = precision_score(y_test, y_pred3)\n",
    "print(f'Precision: {precision:.2f}')\n",
    "\n",
    "# Calculate recall\n",
    "recall = recall_score(y_test, y_pred3)\n",
    "print(f'Recall: {recall:.2f}')\n",
    "\n",
    "# Calculate F1-score\n",
    "f1 = f1_score(y_test, y_pred3)\n",
    "print(f'F1-score: {f1:.2f}')\n",
    "\n",
    "# Generate a confusion matrix\n",
    "conf_matrix = confusion_matrix(y_test, y_pred3)\n",
    "print('Confusion Matrix:')\n",
    "print(conf_matrix)"
   ]
  },
  {
   "cell_type": "code",
   "execution_count": 22,
   "metadata": {},
   "outputs": [
    {
     "data": {
      "image/png": "[encoded data removed]",
      "text/plain": [
       "<Figure size 1000x600 with 1 Axes>"
      ]
     },
     "metadata": {},
     "output_type": "display_data"
    }
   ],
   "source": [
    "coef_names = ['Seat Comfort',\n",
    "              'Cabin Staff Service',\n",
    "              'Food & Beverages',\n",
    "              'Ground Service',\n",
    "              'Inflight Entertainment',\n",
    "              'Wifi & Connectivity',\n",
    "              'Value For Money',\n",
    "              'Total Score',\n",
    "              'sentiment']  \n",
    "\n",
    "# Get feature importances\n",
    "feature_importances = best_tree_classifier3.feature_importances_\n",
    "\n",
    "# Create a pandas DataFrame to store the importances and corresponding feature names\n",
    "importance_df = pd.DataFrame({'Feature': coef_names, 'Importance': feature_importances})\n",
    "\n",
    "# Sort the DataFrame by importance values (optional but makes the plot look cleaner)\n",
    "importance_df = importance_df.sort_values(by='Importance', ascending=False)\n",
    "\n",
    "# Create a bar plot for feature importances\n",
    "plt.figure(figsize=(10, 6))\n",
    "plt.barh(importance_df['Feature'], importance_df['Importance'])\n",
    "plt.xlabel('Feature Importance')\n",
    "plt.ylabel('Feature')\n",
    "plt.title('Feature Importance Plot')\n",
    "plt.show()"
   ]
  },
  {
   "cell_type": "markdown",
   "metadata": {
    "cell_id": "5f9bea035e274e4fb317b5a6885e7f7d",
    "deepnote_cell_type": "text-cell-p",
    "formattedRanges": [
     {
      "fromCodePoint": 0,
      "marks": {
       "underline": true
      },
      "toCodePoint": 13,
      "type": "marks"
     }
    ]
   },
   "source": [
    "Random Forest"
   ]
  },
  {
   "cell_type": "code",
   "execution_count": 23,
   "metadata": {
    "allow_embed": false,
    "cell_id": "017f435ecfc2445ca3d7b46f0aacc77f",
    "deepnote_cell_type": "code",
    "deepnote_to_be_reexecuted": false,
    "execution_millis": 1347,
    "execution_start": 1697463883517,
    "source_hash": null
   },
   "outputs": [
    {
     "name": "stdout",
     "output_type": "stream",
     "text": [
      "Confusion Matrix:\n",
      "[[1161   93]\n",
      " [  67  965]]\n",
      "\n",
      "Classification Report:\n",
      "              precision    recall  f1-score   support\n",
      "\n",
      "           0       0.94      0.92      0.93      1254\n",
      "           1       0.90      0.93      0.92      1032\n",
      "\n",
      "    accuracy                           0.92      2286\n",
      "   macro avg       0.92      0.92      0.92      2286\n",
      "weighted avg       0.92      0.92      0.92      2286\n",
      "\n"
     ]
    }
   ],
   "source": [
    "# Create a Random Forest classifier\n",
    "rf_classifier = RandomForestClassifier(n_estimators=100, random_state=42)\n",
    "\n",
    "# Fit the classifier to the training data\n",
    "rf_classifier.fit(X_train3, y_train3)\n",
    "\n",
    "# Make predictions on the test data\n",
    "y_pred = rf_classifier.predict(X_test)\n",
    "\n",
    "print(\"Confusion Matrix:\")\n",
    "print(conf_matrix)\n",
    "print(\"\\nClassification Report:\")\n",
    "print(classification_rep)"
   ]
  },
  {
   "cell_type": "markdown",
   "metadata": {
    "cell_id": "ebca19e610e74aa7847c4a866271f439",
    "deepnote_cell_type": "text-cell-h2",
    "formattedRanges": [],
    "is_collapsed": false
   },
   "source": [
    "## Post-Covid"
   ]
  },
  {
   "cell_type": "code",
   "execution_count": 24,
   "metadata": {
    "cell_id": "2c33608c1ffa427181bb4216798a3d34",
    "deepnote_cell_type": "code",
    "deepnote_to_be_reexecuted": false,
    "execution_millis": 34,
    "execution_start": 1697463884842,
    "source_hash": null
   },
   "outputs": [],
   "source": [
    "post_covid.drop('Review Period', axis=1)\n",
    "\n",
    "post_covid2 = pre_covid.copy()\n",
    "post_covid2.drop('Review Period', axis=1, inplace=True)\n",
    "\n",
    "# dropping target variable\n",
    "X = post_covid2.drop('Recommended', axis=1)  \n",
    "\n",
    "# target variable\n",
    "y = post_covid2['Recommended']\n",
    "\n",
    "X_train, X_test, y_train, y_test = train_test_split(X, y, test_size=0.2, random_state=42)"
   ]
  },
  {
   "cell_type": "markdown",
   "metadata": {
    "cell_id": "b63447b6610f44f79ecf23bab7bed75d",
    "deepnote_cell_type": "text-cell-h3",
    "formattedRanges": [],
    "is_collapsed": false
   },
   "source": [
    "### No Resampling"
   ]
  },
  {
   "cell_type": "markdown",
   "metadata": {
    "cell_id": "a56452a5138b4e3797d99f0fbc5c4da6",
    "deepnote_cell_type": "text-cell-p",
    "formattedRanges": [
     {
      "fromCodePoint": 0,
      "marks": {
       "bold": true
      },
      "toCodePoint": 19,
      "type": "marks"
     }
    ]
   },
   "source": [
    "Logistic Regression"
   ]
  },
  {
   "cell_type": "code",
   "execution_count": 25,
   "metadata": {
    "cell_id": "a83b491fe8004c87910b168b11746d3d",
    "deepnote_cell_type": "code",
    "deepnote_to_be_reexecuted": false,
    "execution_millis": 2086,
    "execution_start": 1697463884859,
    "source_hash": null
   },
   "outputs": [
    {
     "name": "stdout",
     "output_type": "stream",
     "text": [
      "Accuracy: 0.926509186351706\n",
      "Confusion Matrix:\n",
      "[[1170   84]\n",
      " [  84  948]]\n",
      "Classification Report:\n",
      "              precision    recall  f1-score   support\n",
      "\n",
      "           0       0.93      0.93      0.93      1254\n",
      "           1       0.92      0.92      0.92      1032\n",
      "\n",
      "    accuracy                           0.93      2286\n",
      "   macro avg       0.93      0.93      0.93      2286\n",
      "weighted avg       0.93      0.93      0.93      2286\n",
      "\n"
     ]
    }
   ],
   "source": [
    "model = LogisticRegression()\n",
    "model.fit(X_train, y_train)\n",
    "\n",
    "y_pred = model.predict(X_test)\n",
    "\n",
    "accuracy = accuracy_score(y_test, y_pred)\n",
    "confusion = confusion_matrix(y_test, y_pred)\n",
    "classification_rep = classification_report(y_test, y_pred)\n",
    "\n",
    "print(f'Accuracy: {accuracy}')\n",
    "print(f'Confusion Matrix:\\n{confusion}')\n",
    "print(f'Classification Report:\\n{classification_rep}')"
   ]
  },
  {
   "cell_type": "code",
   "execution_count": 26,
   "metadata": {},
   "outputs": [
    {
     "data": {
      "image/png": "[encoded data removed]",
      "text/plain": [
       "<Figure size 1000x600 with 1 Axes>"
      ]
     },
     "metadata": {},
     "output_type": "display_data"
    }
   ],
   "source": [
    "coef_names = ['Seat Comfort',\n",
    "              'Cabin Staff Service',\n",
    "              'Food & Beverages',\n",
    "              'Ground Service',\n",
    "              'Inflight Entertainment',\n",
    "              'Wifi & Connectivity',\n",
    "              'Value For Money',\n",
    "              'Total Score',\n",
    "              'sentiment']  \n",
    "\n",
    "coef_values = model.coef_[0]\n",
    "\n",
    "plt.figure(figsize=(10, 6))\n",
    "sns.barplot(x=coef_values, y=coef_names)\n",
    "plt.xlabel('Coefficient Value')\n",
    "plt.ylabel('Independent Variables')\n",
    "plt.title('Logistic Regression Coefficients')\n",
    "plt.show()"
   ]
  },
  {
   "cell_type": "markdown",
   "metadata": {
    "cell_id": "0aadf2ba8d754d66a60bb15dd3adfed0",
    "deepnote_cell_type": "text-cell-p",
    "formattedRanges": [
     {
      "fromCodePoint": 0,
      "marks": {
       "bold": true
      },
      "toCodePoint": 13,
      "type": "marks"
     }
    ]
   },
   "source": [
    "Decision Tree"
   ]
  },
  {
   "cell_type": "code",
   "execution_count": 27,
   "metadata": {
    "cell_id": "e92e036de79f4108a233429394d8b485",
    "deepnote_cell_type": "code",
    "deepnote_to_be_reexecuted": false,
    "execution_millis": 11757,
    "execution_start": 1697463886938,
    "source_hash": null
   },
   "outputs": [
    {
     "name": "stdout",
     "output_type": "stream",
     "text": [
      "Accuracy: 0.93\n",
      "Precision: 0.93\n",
      "Recall: 0.90\n",
      "F1-score: 0.92\n",
      "Confusion Matrix:\n",
      "[[1183   71]\n",
      " [  99  933]]\n"
     ]
    }
   ],
   "source": [
    "# decision tree classifier\n",
    "tree_classifier = DecisionTreeClassifier()\n",
    "tree_classifier.fit(X_train, y_train)\n",
    "\n",
    "# making predictions using decision tree classifier\n",
    "y_pred = tree_classifier.predict(X_test)\n",
    "\n",
    "param_grid = {\n",
    "    'max_depth': [None, 10, 20, 30],\n",
    "    'min_samples_split': [2, 5, 10],\n",
    "    'min_samples_leaf': [1, 2, 4]\n",
    "}\n",
    "\n",
    "grid_search = GridSearchCV(DecisionTreeClassifier(), param_grid, cv=5)\n",
    "grid_search.fit(X_train, y_train)\n",
    "\n",
    "best_tree_classifier = grid_search.best_estimator_\n",
    "\n",
    "# evaluation metrics\n",
    "\n",
    "y_pred = best_tree_classifier.predict(X_test)\n",
    "\n",
    "# Calculate accuracy\n",
    "accuracy = accuracy_score(y_test, y_pred)\n",
    "print(f'Accuracy: {accuracy:.2f}')\n",
    "\n",
    "# Calculate precision\n",
    "precision = precision_score(y_test, y_pred)\n",
    "print(f'Precision: {precision:.2f}')\n",
    "\n",
    "# Calculate recall\n",
    "recall = recall_score(y_test, y_pred)\n",
    "print(f'Recall: {recall:.2f}')\n",
    "\n",
    "# Calculate F1-score\n",
    "f1 = f1_score(y_test, y_pred)\n",
    "print(f'F1-score: {f1:.2f}')\n",
    "\n",
    "# Generate a confusion matrix\n",
    "conf_matrix = confusion_matrix(y_test, y_pred)\n",
    "print('Confusion Matrix:')\n",
    "print(conf_matrix)"
   ]
  },
  {
   "cell_type": "markdown",
   "metadata": {
    "cell_id": "4b634e1ae3bb42be98f0c71947977128",
    "deepnote_cell_type": "text-cell-p",
    "formattedRanges": [
     {
      "fromCodePoint": 0,
      "marks": {
       "bold": true
      },
      "toCodePoint": 13,
      "type": "marks"
     }
    ]
   },
   "source": [
    "Random Forest"
   ]
  },
  {
   "cell_type": "code",
   "execution_count": 28,
   "metadata": {
    "cell_id": "7fc01dc3e28e4d408e54b60abe804521",
    "deepnote_cell_type": "code",
    "deepnote_to_be_reexecuted": false,
    "execution_millis": 1792,
    "execution_start": 1697463898690,
    "source_hash": null
   },
   "outputs": [
    {
     "name": "stdout",
     "output_type": "stream",
     "text": [
      "Confusion Matrix:\n",
      "[[1183   71]\n",
      " [  99  933]]\n",
      "\n",
      "Classification Report:\n",
      "              precision    recall  f1-score   support\n",
      "\n",
      "           0       0.93      0.93      0.93      1254\n",
      "           1       0.92      0.92      0.92      1032\n",
      "\n",
      "    accuracy                           0.93      2286\n",
      "   macro avg       0.93      0.93      0.93      2286\n",
      "weighted avg       0.93      0.93      0.93      2286\n",
      "\n"
     ]
    }
   ],
   "source": [
    "# Create a Random Forest classifier\n",
    "rf_classifier = RandomForestClassifier(n_estimators=100, random_state=42)\n",
    "\n",
    "# Fit the classifier to the training data\n",
    "rf_classifier.fit(X_train, y_train)\n",
    "\n",
    "# Make predictions on the test data\n",
    "y_pred = rf_classifier.predict(X_test)\n",
    "\n",
    "print(\"Confusion Matrix:\")\n",
    "print(conf_matrix)\n",
    "print(\"\\nClassification Report:\")\n",
    "print(classification_rep)"
   ]
  },
  {
   "cell_type": "code",
   "execution_count": 29,
   "metadata": {},
   "outputs": [
    {
     "data": {
      "image/png": "[encoded data removed]",
      "text/plain": [
       "<Figure size 1000x600 with 1 Axes>"
      ]
     },
     "metadata": {},
     "output_type": "display_data"
    }
   ],
   "source": [
    "coef_names = ['Seat Comfort',\n",
    "              'Cabin Staff Service',\n",
    "              'Food & Beverages',\n",
    "              'Ground Service',\n",
    "              'Inflight Entertainment',\n",
    "              'Wifi & Connectivity',\n",
    "              'Value For Money',\n",
    "              'Total Score',\n",
    "              'sentiment'] \n",
    "\n",
    "# Get feature importances\n",
    "feature_importances = rf_classifier.feature_importances_\n",
    "\n",
    "# Create a pandas DataFrame to store the importances and corresponding feature names\n",
    "importance_df = pd.DataFrame({'Feature': coef_names, 'Importance': feature_importances})\n",
    "\n",
    "# Sort the DataFrame by importance values (optional but makes the plot look cleaner)\n",
    "importance_df = importance_df.sort_values(by='Importance', ascending=False)\n",
    "\n",
    "# Create a bar plot for feature importances\n",
    "plt.figure(figsize=(10, 6))\n",
    "plt.barh(importance_df['Feature'], importance_df['Importance'])\n",
    "plt.xlabel('Feature Importance')\n",
    "plt.ylabel('Feature')\n",
    "plt.title('Feature Importance Plot')\n",
    "plt.show()"
   ]
  },
  {
   "cell_type": "markdown",
   "metadata": {
    "cell_id": "dadd7485b01140158b4a380bde4398e5",
    "deepnote_cell_type": "text-cell-h3",
    "formattedRanges": [],
    "is_collapsed": false
   },
   "source": [
    "### Sequential Application"
   ]
  },
  {
   "cell_type": "code",
   "execution_count": 30,
   "metadata": {
    "cell_id": "4adadbd177eb408eb31510fcce937c3d",
    "deepnote_cell_type": "code",
    "deepnote_to_be_reexecuted": false,
    "execution_millis": 141,
    "execution_start": 1697463900526,
    "source_hash": null
   },
   "outputs": [],
   "source": [
    "# smote\n",
    "\n",
    "smote = SMOTE(sampling_strategy='auto', random_state=42)\n",
    "X_train1, y_train1 = smote.fit_resample(X_train, y_train)\n",
    "\n",
    "# enn\n",
    "\n",
    "enn = EditedNearestNeighbours(sampling_strategy='auto', n_neighbors=3)\n",
    "X_train2, y_train2 = enn.fit_resample(X_train1, y_train1)\n",
    "\n",
    "# smoteenn\n",
    "\n",
    "smote_enn = SMOTEENN(sampling_strategy='auto', random_state=42)\n",
    "X_train3, y_train3 = smote_enn.fit_resample(X_train2, y_train2)"
   ]
  },
  {
   "cell_type": "markdown",
   "metadata": {
    "cell_id": "4e55bbf8c2084f8289b5dbd6ec99757a",
    "deepnote_cell_type": "text-cell-p",
    "formattedRanges": [
     {
      "fromCodePoint": 0,
      "marks": {
       "bold": true
      },
      "toCodePoint": 19,
      "type": "marks"
     }
    ]
   },
   "source": [
    "Logistic Regression"
   ]
  },
  {
   "cell_type": "code",
   "execution_count": 31,
   "metadata": {
    "cell_id": "d82672d530284821a9fdb4517aaaec73",
    "deepnote_cell_type": "code",
    "deepnote_to_be_reexecuted": false,
    "execution_millis": 2711,
    "execution_start": 1697463902466,
    "source_hash": null
   },
   "outputs": [
    {
     "name": "stdout",
     "output_type": "stream",
     "text": [
      "Accuracy: 0.8534558180227472\n",
      "Confusion Matrix:\n",
      "[[1196   58]\n",
      " [ 277  755]]\n",
      "Classification Report:\n",
      "              precision    recall  f1-score   support\n",
      "\n",
      "           0       0.81      0.95      0.88      1254\n",
      "           1       0.93      0.73      0.82      1032\n",
      "\n",
      "    accuracy                           0.85      2286\n",
      "   macro avg       0.87      0.84      0.85      2286\n",
      "weighted avg       0.86      0.85      0.85      2286\n",
      "\n"
     ]
    }
   ],
   "source": [
    "model = LogisticRegression()\n",
    "model.fit(X_train3, y_train3)\n",
    "\n",
    "y_pred = model.predict(X_test)\n",
    "\n",
    "accuracy = accuracy_score(y_test, y_pred)\n",
    "confusion = confusion_matrix(y_test, y_pred)\n",
    "classification_rep = classification_report(y_test, y_pred)\n",
    "\n",
    "print(f'Accuracy: {accuracy}')\n",
    "print(f'Confusion Matrix:\\n{confusion}')\n",
    "print(f'Classification Report:\\n{classification_rep}')"
   ]
  },
  {
   "cell_type": "markdown",
   "metadata": {
    "cell_id": "12fb98fdd0f8471f9c4c83c0748a0558",
    "deepnote_cell_type": "text-cell-p",
    "formattedRanges": [
     {
      "fromCodePoint": 0,
      "marks": {
       "bold": true
      },
      "toCodePoint": 13,
      "type": "marks"
     }
    ],
    "is_collapsed": false
   },
   "source": [
    "Decision Tree"
   ]
  },
  {
   "cell_type": "code",
   "execution_count": 32,
   "metadata": {
    "cell_id": "580903422f2e4f92a3d11ea3300941ac",
    "deepnote_cell_type": "code",
    "deepnote_to_be_reexecuted": false,
    "execution_millis": 393,
    "execution_start": 1697463905323,
    "source_hash": null
   },
   "outputs": [
    {
     "name": "stdout",
     "output_type": "stream",
     "text": [
      "Accuracy: 0.86\n",
      "Precision: 0.94\n",
      "Recall: 0.72\n",
      "F1-score: 0.82\n",
      "Confusion Matrix:\n",
      "[[1210   44]\n",
      " [ 287  745]]\n"
     ]
    }
   ],
   "source": [
    "# decision tree classifier\n",
    "tree_classifier = DecisionTreeClassifier()\n",
    "tree_classifier.fit(X_train3, y_train3)\n",
    "\n",
    "# making predictions using decision tree classifier\n",
    "y_pred = tree_classifier.predict(X_test)\n",
    "\n",
    "param_grid = {\n",
    "    'max_depth': [None, 10, 20, 30],\n",
    "    'min_samples_split': [2, 5, 10],\n",
    "    'min_samples_leaf': [1, 2, 4]\n",
    "}\n",
    "\n",
    "grid_search = GridSearchCV(DecisionTreeClassifier(), param_grid, cv=5)\n",
    "grid_search.fit(X_train3, y_train3)\n",
    "\n",
    "best_tree_classifier = grid_search.best_estimator_\n",
    "\n",
    "# evaluation metrics\n",
    "\n",
    "y_pred = best_tree_classifier.predict(X_test)\n",
    "\n",
    "# Calculate accuracy\n",
    "accuracy = accuracy_score(y_test, y_pred)\n",
    "print(f'Accuracy: {accuracy:.2f}')\n",
    "\n",
    "# Calculate precision\n",
    "precision = precision_score(y_test, y_pred)\n",
    "print(f'Precision: {precision:.2f}')\n",
    "\n",
    "# Calculate recall\n",
    "recall = recall_score(y_test, y_pred)\n",
    "print(f'Recall: {recall:.2f}')\n",
    "\n",
    "# Calculate F1-score\n",
    "f1 = f1_score(y_test, y_pred)\n",
    "print(f'F1-score: {f1:.2f}')\n",
    "\n",
    "# Generate a confusion matrix\n",
    "conf_matrix = confusion_matrix(y_test, y_pred)\n",
    "print('Confusion Matrix:')\n",
    "print(conf_matrix)"
   ]
  },
  {
   "cell_type": "markdown",
   "metadata": {
    "cell_id": "538a13272f2d4192b61699d141fe4fbf",
    "deepnote_cell_type": "text-cell-p",
    "formattedRanges": [
     {
      "fromCodePoint": 0,
      "marks": {
       "bold": true
      },
      "toCodePoint": 13,
      "type": "marks"
     }
    ],
    "is_collapsed": false
   },
   "source": [
    "Random Forest"
   ]
  },
  {
   "cell_type": "code",
   "execution_count": 33,
   "metadata": {
    "cell_id": "1b3b3595566e478d8db1bdf50364a99c",
    "deepnote_cell_type": "code",
    "deepnote_to_be_reexecuted": false,
    "execution_millis": 2007,
    "execution_start": 1697463918664,
    "source_hash": null
   },
   "outputs": [
    {
     "name": "stdout",
     "output_type": "stream",
     "text": [
      "Confusion Matrix:\n",
      "[[1210   44]\n",
      " [ 287  745]]\n",
      "\n",
      "Classification Report:\n",
      "              precision    recall  f1-score   support\n",
      "\n",
      "           0       0.81      0.95      0.88      1254\n",
      "           1       0.93      0.73      0.82      1032\n",
      "\n",
      "    accuracy                           0.85      2286\n",
      "   macro avg       0.87      0.84      0.85      2286\n",
      "weighted avg       0.86      0.85      0.85      2286\n",
      "\n"
     ]
    }
   ],
   "source": [
    "# Create a Random Forest classifier\n",
    "rf_classifier = RandomForestClassifier(n_estimators=100, random_state=42)\n",
    "\n",
    "# Fit the classifier to the training data\n",
    "rf_classifier.fit(X_train3, y_train3)\n",
    "\n",
    "# Make predictions on the test data\n",
    "y_pred = rf_classifier.predict(X_test)\n",
    "\n",
    "print(\"Confusion Matrix:\")\n",
    "print(conf_matrix)\n",
    "print(\"\\nClassification Report:\")\n",
    "print(classification_rep)"
   ]
  },
  {
   "cell_type": "markdown",
   "metadata": {
    "cell_id": "b0ac3b4014a04666b2fbd25f418b9953",
    "deepnote_cell_type": "text-cell-h3",
    "formattedRanges": []
   },
   "source": [
    "### Parallel Application"
   ]
  },
  {
   "cell_type": "markdown",
   "metadata": {
    "cell_id": "b32ede03c82b42f29b8fcca83dd64cc6",
    "deepnote_cell_type": "text-cell-p",
    "formattedRanges": [
     {
      "fromCodePoint": 0,
      "marks": {
       "bold": true
      },
      "toCodePoint": 5,
      "type": "marks"
     }
    ]
   },
   "source": [
    "SMOTE"
   ]
  },
  {
   "cell_type": "markdown",
   "metadata": {
    "cell_id": "9596b9358a774bc4847e08931315cd94",
    "deepnote_cell_type": "text-cell-p",
    "formattedRanges": [
     {
      "fromCodePoint": 0,
      "marks": {
       "underline": true
      },
      "toCodePoint": 19,
      "type": "marks"
     }
    ]
   },
   "source": [
    "Logistic Regression"
   ]
  },
  {
   "cell_type": "code",
   "execution_count": 34,
   "metadata": {
    "cell_id": "3f7b30618db44911baa557f8e0c22e58",
    "deepnote_cell_type": "code",
    "deepnote_to_be_reexecuted": false,
    "execution_millis": 202,
    "execution_start": 1697463930863,
    "source_hash": null
   },
   "outputs": [
    {
     "name": "stdout",
     "output_type": "stream",
     "text": [
      "Accuracy: 0.9238845144356955\n",
      "Confusion Matrix:\n",
      "[[1155   99]\n",
      " [  75  957]]\n",
      "Classification Report:\n",
      "              precision    recall  f1-score   support\n",
      "\n",
      "           0       0.94      0.92      0.93      1254\n",
      "           1       0.91      0.93      0.92      1032\n",
      "\n",
      "    accuracy                           0.92      2286\n",
      "   macro avg       0.92      0.92      0.92      2286\n",
      "weighted avg       0.92      0.92      0.92      2286\n",
      "\n"
     ]
    }
   ],
   "source": [
    "# smote\n",
    "\n",
    "smote = SMOTE(sampling_strategy='auto', random_state=42)\n",
    "X_train1, y_train1 = smote.fit_resample(X_train, y_train)\n",
    "\n",
    "model1 = LogisticRegression()\n",
    "model1.fit(X_train1, y_train1)\n",
    "\n",
    "y_pred1 = model1.predict(X_test)\n",
    "\n",
    "accuracy = accuracy_score(y_test, y_pred1)\n",
    "confusion = confusion_matrix(y_test, y_pred1)\n",
    "classification_rep = classification_report(y_test, y_pred1)\n",
    "\n",
    "print(f'Accuracy: {accuracy}')\n",
    "print(f'Confusion Matrix:\\n{confusion}')\n",
    "print(f'Classification Report:\\n{classification_rep}')"
   ]
  },
  {
   "cell_type": "markdown",
   "metadata": {
    "cell_id": "0c64bbb7996441d4acfb215b4421e8dd",
    "deepnote_cell_type": "text-cell-p",
    "formattedRanges": [
     {
      "fromCodePoint": 0,
      "marks": {
       "underline": true
      },
      "toCodePoint": 13,
      "type": "marks"
     }
    ]
   },
   "source": [
    "Decision Tree"
   ]
  },
  {
   "cell_type": "code",
   "execution_count": 35,
   "metadata": {
    "cell_id": "16f0bed8bb51403f9ba5b399e89b68fc",
    "deepnote_cell_type": "code",
    "deepnote_to_be_reexecuted": false,
    "execution_millis": 39,
    "execution_start": 1697463970637,
    "source_hash": null
   },
   "outputs": [
    {
     "name": "stdout",
     "output_type": "stream",
     "text": [
      "Accuracy: 0.92\n",
      "Precision: 0.92\n",
      "Recall: 0.90\n",
      "F1-score: 0.91\n",
      "Confusion Matrix:\n",
      "[[1174   80]\n",
      " [ 100  932]]\n"
     ]
    }
   ],
   "source": [
    "tree_classifier1 = DecisionTreeClassifier()\n",
    "tree_classifier1.fit(X_train1, y_train1)\n",
    "\n",
    "# making predictions using decision tree classifier\n",
    "y_pred1 = tree_classifier1.predict(X_test)\n",
    "\n",
    "param_grid = {\n",
    "    'max_depth': [None, 10, 20, 30],\n",
    "    'min_samples_split': [2, 5, 10],\n",
    "    'min_samples_leaf': [1, 2, 4]\n",
    "}\n",
    "\n",
    "grid_search = GridSearchCV(tree_classifier1, param_grid, cv=5)\n",
    "grid_search.fit(X_train1, y_train1)\n",
    "\n",
    "best_tree_classifier1 = grid_search.best_estimator_\n",
    "\n",
    "# evaluation metrics\n",
    "\n",
    "y_pred = best_tree_classifier1.predict(X_test)\n",
    "\n",
    "# Calculate accuracy\n",
    "accuracy = accuracy_score(y_test, y_pred1)\n",
    "print(f'Accuracy: {accuracy:.2f}')\n",
    "\n",
    "# Calculate precision\n",
    "precision = precision_score(y_test, y_pred1)\n",
    "print(f'Precision: {precision:.2f}')\n",
    "\n",
    "# Calculate recall\n",
    "recall = recall_score(y_test, y_pred1)\n",
    "print(f'Recall: {recall:.2f}')\n",
    "\n",
    "# Calculate F1-score\n",
    "f1 = f1_score(y_test, y_pred1)\n",
    "print(f'F1-score: {f1:.2f}')\n",
    "\n",
    "# Generate a confusion matrix\n",
    "conf_matrix = confusion_matrix(y_test, y_pred1)\n",
    "print('Confusion Matrix:')\n",
    "print(conf_matrix)"
   ]
  },
  {
   "cell_type": "markdown",
   "metadata": {
    "cell_id": "6183160b6e984001a62a739bc22e1c6b",
    "deepnote_cell_type": "text-cell-p",
    "formattedRanges": [
     {
      "fromCodePoint": 0,
      "marks": {
       "underline": true
      },
      "toCodePoint": 13,
      "type": "marks"
     }
    ]
   },
   "source": [
    "Random Forest"
   ]
  },
  {
   "cell_type": "code",
   "execution_count": 36,
   "metadata": {
    "cell_id": "e973b85359364215aa1205a66e6a5008",
    "deepnote_cell_type": "code",
    "deepnote_to_be_reexecuted": false,
    "execution_millis": 3216,
    "execution_start": 1697463970848,
    "source_hash": null
   },
   "outputs": [
    {
     "name": "stdout",
     "output_type": "stream",
     "text": [
      "Confusion Matrix:\n",
      "[[1174   80]\n",
      " [ 100  932]]\n",
      "\n",
      "Classification Report:\n",
      "              precision    recall  f1-score   support\n",
      "\n",
      "           0       0.94      0.92      0.93      1254\n",
      "           1       0.91      0.93      0.92      1032\n",
      "\n",
      "    accuracy                           0.92      2286\n",
      "   macro avg       0.92      0.92      0.92      2286\n",
      "weighted avg       0.92      0.92      0.92      2286\n",
      "\n"
     ]
    }
   ],
   "source": [
    "# Create a Random Forest classifier\n",
    "rf_classifier = RandomForestClassifier(n_estimators=100, random_state=42)\n",
    "\n",
    "# Fit the classifier to the training data\n",
    "rf_classifier.fit(X_train1, y_train1)\n",
    "\n",
    "# Make predictions on the test data\n",
    "y_pred = rf_classifier.predict(X_test)\n",
    "\n",
    "print(\"Confusion Matrix:\")\n",
    "print(conf_matrix)\n",
    "print(\"\\nClassification Report:\")\n",
    "print(classification_rep)"
   ]
  },
  {
   "cell_type": "markdown",
   "metadata": {
    "cell_id": "890e62574c044d52b87e50faa538d2dd",
    "deepnote_cell_type": "text-cell-p",
    "formattedRanges": [
     {
      "fromCodePoint": 0,
      "marks": {
       "bold": true
      },
      "toCodePoint": 3,
      "type": "marks"
     }
    ]
   },
   "source": [
    "ENN"
   ]
  },
  {
   "cell_type": "markdown",
   "metadata": {
    "cell_id": "6c370d5c74254e808648d1df28df5e22",
    "deepnote_cell_type": "text-cell-p",
    "formattedRanges": [
     {
      "fromCodePoint": 0,
      "marks": {
       "underline": true
      },
      "toCodePoint": 19,
      "type": "marks"
     }
    ]
   },
   "source": [
    "Logistic Regression"
   ]
  },
  {
   "cell_type": "code",
   "execution_count": 37,
   "metadata": {
    "cell_id": "d32568904df648a0899ecff05416254f",
    "deepnote_cell_type": "code",
    "deepnote_to_be_reexecuted": false,
    "execution_millis": 323,
    "execution_start": 1697463931026,
    "source_hash": null
   },
   "outputs": [
    {
     "name": "stdout",
     "output_type": "stream",
     "text": [
      "Accuracy: 0.9138232720909887\n",
      "Confusion Matrix:\n",
      "[[1112  142]\n",
      " [  55  977]]\n",
      "Classification Report:\n",
      "              precision    recall  f1-score   support\n",
      "\n",
      "           0       0.95      0.89      0.92      1254\n",
      "           1       0.87      0.95      0.91      1032\n",
      "\n",
      "    accuracy                           0.91      2286\n",
      "   macro avg       0.91      0.92      0.91      2286\n",
      "weighted avg       0.92      0.91      0.91      2286\n",
      "\n"
     ]
    }
   ],
   "source": [
    "# enn\n",
    "\n",
    "enn = EditedNearestNeighbours(sampling_strategy='auto', n_neighbors=3)\n",
    "X_train2, y_train2 = enn.fit_resample(X_train, y_train)\n",
    "\n",
    "model2 = LogisticRegression()\n",
    "model2.fit(X_train2, y_train2)\n",
    "\n",
    "y_pred2 = model2.predict(X_test)\n",
    "\n",
    "accuracy = accuracy_score(y_test, y_pred2)\n",
    "confusion = confusion_matrix(y_test, y_pred2)\n",
    "classification_rep = classification_report(y_test, y_pred2)\n",
    "\n",
    "print(f'Accuracy: {accuracy}')\n",
    "print(f'Confusion Matrix:\\n{confusion}')\n",
    "print(f'Classification Report:\\n{classification_rep}')"
   ]
  },
  {
   "cell_type": "markdown",
   "metadata": {
    "cell_id": "6ac7d559026f49489d8cbc3b49cd62a8",
    "deepnote_cell_type": "text-cell-p",
    "formattedRanges": [
     {
      "fromCodePoint": 0,
      "marks": {
       "underline": true
      },
      "toCodePoint": 13,
      "type": "marks"
     }
    ]
   },
   "source": [
    "Decision Tree"
   ]
  },
  {
   "cell_type": "code",
   "execution_count": 38,
   "metadata": {
    "allow_embed": false,
    "cell_id": "126d83b37baf4330933cf56e271aa097",
    "deepnote_cell_type": "code",
    "deepnote_to_be_reexecuted": false,
    "execution_millis": 85,
    "execution_start": 1697463970721,
    "source_hash": null
   },
   "outputs": [
    {
     "name": "stdout",
     "output_type": "stream",
     "text": [
      "Accuracy: 0.85\n",
      "Precision: 0.77\n",
      "Recall: 0.96\n",
      "F1-score: 0.85\n",
      "Confusion Matrix:\n",
      "[[950 304]\n",
      " [ 42 990]]\n"
     ]
    }
   ],
   "source": [
    "tree_classifier2 = DecisionTreeClassifier()\n",
    "tree_classifier2.fit(X_train2, y_train2)\n",
    "\n",
    "# making predictions using decision tree classifier\n",
    "y_pred2 = tree_classifier2.predict(X_test)\n",
    "\n",
    "param_grid = {\n",
    "    'max_depth': [None, 10, 20, 30],\n",
    "    'min_samples_split': [2, 5, 10],\n",
    "    'min_samples_leaf': [1, 2, 4]\n",
    "}\n",
    "\n",
    "grid_search = GridSearchCV(tree_classifier2, param_grid, cv=5)\n",
    "grid_search.fit(X_train2, y_train2)\n",
    "\n",
    "best_tree_classifier2 = grid_search.best_estimator_\n",
    "\n",
    "# evaluation metrics\n",
    "\n",
    "y_pred = best_tree_classifier2.predict(X_test)\n",
    "\n",
    "# Calculate accuracy\n",
    "accuracy = accuracy_score(y_test, y_pred2)\n",
    "print(f'Accuracy: {accuracy:.2f}')\n",
    "\n",
    "# Calculate precision\n",
    "precision = precision_score(y_test, y_pred2)\n",
    "print(f'Precision: {precision:.2f}')\n",
    "\n",
    "# Calculate recall\n",
    "recall = recall_score(y_test, y_pred2)\n",
    "print(f'Recall: {recall:.2f}')\n",
    "\n",
    "# Calculate F1-score\n",
    "f1 = f1_score(y_test, y_pred2)\n",
    "print(f'F1-score: {f1:.2f}')\n",
    "\n",
    "# Generate a confusion matrix\n",
    "conf_matrix = confusion_matrix(y_test, y_pred2)\n",
    "print('Confusion Matrix:')\n",
    "print(conf_matrix)"
   ]
  },
  {
   "cell_type": "markdown",
   "metadata": {
    "cell_id": "2bdab64d07824e5dad67937891f86c80",
    "deepnote_cell_type": "text-cell-p",
    "formattedRanges": [
     {
      "fromCodePoint": 0,
      "marks": {
       "underline": true
      },
      "toCodePoint": 13,
      "type": "marks"
     }
    ]
   },
   "source": [
    "Random Forest"
   ]
  },
  {
   "cell_type": "code",
   "execution_count": 39,
   "metadata": {
    "allow_embed": false,
    "cell_id": "9bf22820b38b4bac9b0a156ac736da6a",
    "deepnote_cell_type": "code",
    "deepnote_to_be_reexecuted": false,
    "execution_millis": 1868,
    "execution_start": 1697463974057,
    "source_hash": null
   },
   "outputs": [
    {
     "name": "stdout",
     "output_type": "stream",
     "text": [
      "Confusion Matrix:\n",
      "[[950 304]\n",
      " [ 42 990]]\n",
      "\n",
      "Classification Report:\n",
      "              precision    recall  f1-score   support\n",
      "\n",
      "           0       0.95      0.89      0.92      1254\n",
      "           1       0.87      0.95      0.91      1032\n",
      "\n",
      "    accuracy                           0.91      2286\n",
      "   macro avg       0.91      0.92      0.91      2286\n",
      "weighted avg       0.92      0.91      0.91      2286\n",
      "\n"
     ]
    }
   ],
   "source": [
    "# Create a Random Forest classifier\n",
    "rf_classifier = RandomForestClassifier(n_estimators=100, random_state=42)\n",
    "\n",
    "# Fit the classifier to the training data\n",
    "rf_classifier.fit(X_train2, y_train2)\n",
    "\n",
    "# Make predictions on the test data\n",
    "y_pred = rf_classifier.predict(X_test)\n",
    "\n",
    "print(\"Confusion Matrix:\")\n",
    "print(conf_matrix)\n",
    "print(\"\\nClassification Report:\")\n",
    "print(classification_rep)"
   ]
  },
  {
   "cell_type": "markdown",
   "metadata": {
    "cell_id": "0d2434ad0c2541819c427f6727b79791",
    "deepnote_cell_type": "text-cell-p",
    "formattedRanges": [
     {
      "fromCodePoint": 0,
      "marks": {
       "bold": true
      },
      "toCodePoint": 9,
      "type": "marks"
     }
    ]
   },
   "source": [
    "SMOTE-ENN"
   ]
  },
  {
   "cell_type": "markdown",
   "metadata": {
    "cell_id": "d7bde63a75ef4c2dbfe84a9fa85c5592",
    "deepnote_cell_type": "text-cell-p",
    "formattedRanges": [
     {
      "fromCodePoint": 0,
      "marks": {
       "underline": true
      },
      "toCodePoint": 19,
      "type": "marks"
     }
    ]
   },
   "source": [
    "Logistic Regression"
   ]
  },
  {
   "cell_type": "code",
   "execution_count": 40,
   "metadata": {
    "cell_id": "a35f7c42300c4a35a96c5e4e76196b12",
    "deepnote_cell_type": "code",
    "deepnote_to_be_reexecuted": false,
    "execution_millis": 122,
    "execution_start": 1697463931047,
    "source_hash": null
   },
   "outputs": [
    {
     "name": "stdout",
     "output_type": "stream",
     "text": [
      "Accuracy: 0.9230096237970253\n",
      "Confusion Matrix:\n",
      "[[1148  106]\n",
      " [  70  962]]\n",
      "Classification Report:\n",
      "              precision    recall  f1-score   support\n",
      "\n",
      "           0       0.94      0.92      0.93      1254\n",
      "           1       0.90      0.93      0.92      1032\n",
      "\n",
      "    accuracy                           0.92      2286\n",
      "   macro avg       0.92      0.92      0.92      2286\n",
      "weighted avg       0.92      0.92      0.92      2286\n",
      "\n"
     ]
    }
   ],
   "source": [
    "# smoteenn\n",
    "\n",
    "smote_enn = SMOTEENN(sampling_strategy='auto', random_state=42)\n",
    "X_train3, y_train3 = smote_enn.fit_resample(X_train, y_train)\n",
    "\n",
    "model3 = LogisticRegression()\n",
    "model3.fit(X_train3, y_train3)\n",
    "\n",
    "y_pred3 = model3.predict(X_test)\n",
    "\n",
    "accuracy = accuracy_score(y_test, y_pred3)\n",
    "confusion = confusion_matrix(y_test, y_pred3)\n",
    "classification_rep = classification_report(y_test, y_pred3)\n",
    "\n",
    "print(f'Accuracy: {accuracy}')\n",
    "print(f'Confusion Matrix:\\n{confusion}')\n",
    "print(f'Classification Report:\\n{classification_rep}')"
   ]
  },
  {
   "cell_type": "markdown",
   "metadata": {
    "cell_id": "ef955ae8a8ea4a1ea588088b6b9a4db0",
    "deepnote_cell_type": "text-cell-p",
    "formattedRanges": [
     {
      "fromCodePoint": 0,
      "marks": {
       "underline": true
      },
      "toCodePoint": 13,
      "type": "marks"
     }
    ]
   },
   "source": [
    "Decision Tree"
   ]
  },
  {
   "cell_type": "code",
   "execution_count": 41,
   "metadata": {
    "allow_embed": false,
    "cell_id": "76de2e98ba2a490ebcb7715f9a0d91a8",
    "deepnote_cell_type": "code",
    "deepnote_to_be_reexecuted": false,
    "execution_millis": 555,
    "execution_start": 1697463970752,
    "source_hash": null
   },
   "outputs": [
    {
     "name": "stdout",
     "output_type": "stream",
     "text": [
      "Accuracy: 0.93\n",
      "Precision: 0.91\n",
      "Recall: 0.94\n",
      "F1-score: 0.92\n",
      "Confusion Matrix:\n",
      "[[1162   92]\n",
      " [  67  965]]\n"
     ]
    }
   ],
   "source": [
    "tree_classifier3 = DecisionTreeClassifier()\n",
    "tree_classifier3.fit(X_train3, y_train3)\n",
    "\n",
    "# making predictions using decision tree classifier\n",
    "y_pred3 = tree_classifier3.predict(X_test)\n",
    "\n",
    "param_grid = {\n",
    "    'max_depth': [None, 10, 20, 30],\n",
    "    'min_samples_split': [2, 5, 10],\n",
    "    'min_samples_leaf': [1, 2, 4]\n",
    "}\n",
    "\n",
    "grid_search = GridSearchCV(tree_classifier3, param_grid, cv=5)\n",
    "grid_search.fit(X_train3, y_train3)\n",
    "\n",
    "best_tree_classifier3 = grid_search.best_estimator_\n",
    "\n",
    "# evaluation metrics\n",
    "\n",
    "y_pred = best_tree_classifier3.predict(X_test)\n",
    "\n",
    "# Calculate accuracy\n",
    "accuracy = accuracy_score(y_test, y_pred3)\n",
    "print(f'Accuracy: {accuracy:.2f}')\n",
    "\n",
    "# Calculate precision\n",
    "precision = precision_score(y_test, y_pred3)\n",
    "print(f'Precision: {precision:.2f}')\n",
    "\n",
    "# Calculate recall\n",
    "recall = recall_score(y_test, y_pred3)\n",
    "print(f'Recall: {recall:.2f}')\n",
    "\n",
    "# Calculate F1-score\n",
    "f1 = f1_score(y_test, y_pred3)\n",
    "print(f'F1-score: {f1:.2f}')\n",
    "\n",
    "# Generate a confusion matrix\n",
    "conf_matrix = confusion_matrix(y_test, y_pred3)\n",
    "print('Confusion Matrix:')\n",
    "print(conf_matrix)"
   ]
  },
  {
   "cell_type": "code",
   "execution_count": 42,
   "metadata": {},
   "outputs": [
    {
     "data": {
      "image/png": "[encoded data removed]",
      "text/plain": [
       "<Figure size 1000x600 with 1 Axes>"
      ]
     },
     "metadata": {},
     "output_type": "display_data"
    }
   ],
   "source": [
    "coef_names = ['Seat Comfort',\n",
    "              'Cabin Staff Service',\n",
    "              'Food & Beverages',\n",
    "              'Ground Service',\n",
    "              'Inflight Entertainment',\n",
    "              'Wifi & Connectivity',\n",
    "              'Value For Money',\n",
    "              'Total Score',\n",
    "              'sentiment']  \n",
    "\n",
    "# Get feature importances\n",
    "feature_importances = best_tree_classifier3.feature_importances_\n",
    "\n",
    "# Create a pandas DataFrame to store the importances and corresponding feature names\n",
    "importance_df = pd.DataFrame({'Feature': coef_names, 'Importance': feature_importances})\n",
    "\n",
    "# Sort the DataFrame by importance values (optional but makes the plot look cleaner)\n",
    "importance_df = importance_df.sort_values(by='Importance', ascending=False)\n",
    "\n",
    "# Create a bar plot for feature importances\n",
    "plt.figure(figsize=(10, 6))\n",
    "plt.barh(importance_df['Feature'], importance_df['Importance'])\n",
    "plt.xlabel('Feature Importance')\n",
    "plt.ylabel('Feature')\n",
    "plt.title('Feature Importance Plot')\n",
    "plt.show()"
   ]
  },
  {
   "cell_type": "markdown",
   "metadata": {
    "cell_id": "561052efedcf4f928bdcf722f6a20b57",
    "deepnote_cell_type": "text-cell-p",
    "formattedRanges": [
     {
      "fromCodePoint": 0,
      "marks": {
       "underline": true
      },
      "toCodePoint": 13,
      "type": "marks"
     }
    ]
   },
   "source": [
    "Random Forest"
   ]
  },
  {
   "cell_type": "code",
   "execution_count": 43,
   "metadata": {
    "allow_embed": false,
    "cell_id": "5f5951a81338447089973b5dcf19d71c",
    "deepnote_cell_type": "code",
    "deepnote_to_be_reexecuted": false,
    "execution_millis": 1943,
    "execution_start": 1697463975854,
    "source_hash": null
   },
   "outputs": [
    {
     "name": "stdout",
     "output_type": "stream",
     "text": [
      "Confusion Matrix:\n",
      "[[1162   92]\n",
      " [  67  965]]\n",
      "\n",
      "Classification Report:\n",
      "              precision    recall  f1-score   support\n",
      "\n",
      "           0       0.94      0.92      0.93      1254\n",
      "           1       0.90      0.93      0.92      1032\n",
      "\n",
      "    accuracy                           0.92      2286\n",
      "   macro avg       0.92      0.92      0.92      2286\n",
      "weighted avg       0.92      0.92      0.92      2286\n",
      "\n"
     ]
    }
   ],
   "source": [
    "# Create a Random Forest classifier\n",
    "rf_classifier = RandomForestClassifier(n_estimators=100, random_state=42)\n",
    "\n",
    "# Fit the classifier to the training data\n",
    "rf_classifier.fit(X_train3, y_train3)\n",
    "\n",
    "# Make predictions on the test data\n",
    "y_pred = rf_classifier.predict(X_test)\n",
    "\n",
    "print(\"Confusion Matrix:\")\n",
    "print(conf_matrix)\n",
    "print(\"\\nClassification Report:\")\n",
    "print(classification_rep)"
   ]
  },
  {
   "cell_type": "markdown",
   "metadata": {
    "cell_id": "f312c306e73d4c5b83881a99a7d851ad",
    "deepnote_cell_type": "text-cell-h1",
    "formattedRanges": []
   },
   "source": [
    "# sentiment"
   ]
  },
  {
   "cell_type": "code",
   "execution_count": 44,
   "metadata": {
    "cell_id": "b9612ad97087484db85fd905a739e8de",
    "deepnote_cell_type": "code",
    "deepnote_to_be_reexecuted": false,
    "execution_millis": 18,
    "execution_start": 1697463977831,
    "source_hash": null
   },
   "outputs": [],
   "source": [
    "pre_covid3 = pre_covid.copy()\n",
    "\n",
    "pre_covid3.drop('Review Period', axis=1, inplace=True)\n",
    "\n",
    "# dropping target variable\n",
    "X = pre_covid3.drop('sentiment', axis=1)  \n",
    "\n",
    "# target variable\n",
    "y = pre_covid3['sentiment']\n",
    "\n",
    "X_train, X_test, y_train, y_test = train_test_split(X, y, test_size=0.2, random_state=42)"
   ]
  },
  {
   "cell_type": "markdown",
   "metadata": {
    "cell_id": "e7aa59235443469db6362bae6b3d0609",
    "deepnote_cell_type": "text-cell-h2",
    "formattedRanges": []
   },
   "source": [
    "## Pre-Covid"
   ]
  },
  {
   "cell_type": "markdown",
   "metadata": {
    "cell_id": "3b1cae3c8c64473a9c2870eed0473fd5",
    "deepnote_cell_type": "text-cell-h3",
    "formattedRanges": []
   },
   "source": [
    "### No Resampling"
   ]
  },
  {
   "cell_type": "markdown",
   "metadata": {
    "cell_id": "8453a1ef83be48debcb159bc55e7bd65",
    "deepnote_cell_type": "text-cell-p",
    "formattedRanges": [
     {
      "fromCodePoint": 0,
      "marks": {
       "bold": true
      },
      "toCodePoint": 19,
      "type": "marks"
     }
    ]
   },
   "source": [
    "Logistic Regression"
   ]
  },
  {
   "cell_type": "code",
   "execution_count": 45,
   "metadata": {
    "cell_id": "8767a3c6bc4348f29952b2ee422e12d4",
    "deepnote_cell_type": "code",
    "deepnote_to_be_reexecuted": false,
    "execution_millis": 1630,
    "execution_start": 1697463977837,
    "source_hash": null
   },
   "outputs": [
    {
     "name": "stdout",
     "output_type": "stream",
     "text": [
      "Accuracy: 0.7620297462817148\n",
      "Confusion Matrix:\n",
      "[[ 667  147]\n",
      " [ 397 1075]]\n",
      "Classification Report:\n",
      "              precision    recall  f1-score   support\n",
      "\n",
      "           0       0.63      0.82      0.71       814\n",
      "           1       0.88      0.73      0.80      1472\n",
      "\n",
      "    accuracy                           0.76      2286\n",
      "   macro avg       0.75      0.77      0.75      2286\n",
      "weighted avg       0.79      0.76      0.77      2286\n",
      "\n"
     ]
    }
   ],
   "source": [
    "model = LogisticRegression()\n",
    "model.fit(X_train, y_train)\n",
    "\n",
    "y_pred = model.predict(X_test)\n",
    "\n",
    "accuracy = accuracy_score(y_test, y_pred)\n",
    "confusion = confusion_matrix(y_test, y_pred)\n",
    "classification_rep = classification_report(y_test, y_pred)\n",
    "\n",
    "print(f'Accuracy: {accuracy}')\n",
    "print(f'Confusion Matrix:\\n{confusion}')\n",
    "print(f'Classification Report:\\n{classification_rep}')"
   ]
  },
  {
   "cell_type": "code",
   "execution_count": 46,
   "metadata": {},
   "outputs": [
    {
     "data": {
      "image/png": "[encoded data removed]",
      "text/plain": [
       "<Figure size 1000x600 with 1 Axes>"
      ]
     },
     "metadata": {},
     "output_type": "display_data"
    }
   ],
   "source": [
    "coef_names = ['Seat Comfort',\n",
    "              'Cabin Staff Service',\n",
    "              'Food & Beverages',\n",
    "              'Ground Service',\n",
    "              'Inflight Entertainment',\n",
    "              'Wifi & Connectivity',\n",
    "              'Value For Money',\n",
    "              'Recommended',\n",
    "              'Total Score']  \n",
    "\n",
    "coef_values = model.coef_[0]\n",
    "\n",
    "plt.figure(figsize=(10, 6))\n",
    "sns.barplot(x=coef_values, y=coef_names)\n",
    "plt.xlabel('Coefficient Value')\n",
    "plt.ylabel('Independent Variables')\n",
    "plt.title('Logistic Regression Coefficients')\n",
    "plt.show()"
   ]
  },
  {
   "cell_type": "markdown",
   "metadata": {
    "cell_id": "176f7f0b035c41e49deb7b6d7de13cec",
    "deepnote_cell_type": "text-cell-p",
    "formattedRanges": [
     {
      "fromCodePoint": 0,
      "marks": {
       "bold": true
      },
      "toCodePoint": 13,
      "type": "marks"
     }
    ]
   },
   "source": [
    "Decision Tree"
   ]
  },
  {
   "cell_type": "code",
   "execution_count": 47,
   "metadata": {
    "cell_id": "2cdd061c9aac483985fb5845fd09b727",
    "deepnote_cell_type": "code",
    "deepnote_to_be_reexecuted": false,
    "execution_millis": 3737,
    "execution_start": 1697463979449,
    "source_hash": null
   },
   "outputs": [
    {
     "name": "stdout",
     "output_type": "stream",
     "text": [
      "Accuracy: 0.80\n",
      "Precision: 0.87\n",
      "Recall: 0.82\n",
      "F1-score: 0.84\n",
      "Confusion Matrix:\n",
      "[[ 625  189]\n",
      " [ 259 1213]]\n"
     ]
    }
   ],
   "source": [
    "# decision tree classifier\n",
    "tree_classifier = DecisionTreeClassifier()\n",
    "tree_classifier.fit(X_train, y_train)\n",
    "\n",
    "# making predictions using decision tree classifier\n",
    "y_pred = tree_classifier.predict(X_test)\n",
    "\n",
    "param_grid = {\n",
    "    'max_depth': [None, 10, 20, 30],\n",
    "    'min_samples_split': [2, 5, 10],\n",
    "    'min_samples_leaf': [1, 2, 4]\n",
    "}\n",
    "\n",
    "grid_search = GridSearchCV(DecisionTreeClassifier(), param_grid, cv=5)\n",
    "grid_search.fit(X_train, y_train)\n",
    "\n",
    "best_tree_classifier = grid_search.best_estimator_\n",
    "\n",
    "# evaluation metrics\n",
    "\n",
    "y_pred = best_tree_classifier.predict(X_test)\n",
    "\n",
    "# Calculate accuracy\n",
    "accuracy = accuracy_score(y_test, y_pred)\n",
    "print(f'Accuracy: {accuracy:.2f}')\n",
    "\n",
    "# Calculate precision\n",
    "precision = precision_score(y_test, y_pred)\n",
    "print(f'Precision: {precision:.2f}')\n",
    "\n",
    "# Calculate recall\n",
    "recall = recall_score(y_test, y_pred)\n",
    "print(f'Recall: {recall:.2f}')\n",
    "\n",
    "# Calculate F1-score\n",
    "f1 = f1_score(y_test, y_pred)\n",
    "print(f'F1-score: {f1:.2f}')\n",
    "\n",
    "# Generate a confusion matrix\n",
    "conf_matrix = confusion_matrix(y_test, y_pred)\n",
    "print('Confusion Matrix:')\n",
    "print(conf_matrix)"
   ]
  },
  {
   "cell_type": "code",
   "execution_count": 48,
   "metadata": {},
   "outputs": [
    {
     "data": {
      "image/png": "[encoded data removed]",
      "text/plain": [
       "<Figure size 1000x600 with 1 Axes>"
      ]
     },
     "metadata": {},
     "output_type": "display_data"
    }
   ],
   "source": [
    "coef_names = ['Seat Comfort',\n",
    "              'Cabin Staff Service',\n",
    "              'Food & Beverages',\n",
    "              'Ground Service',\n",
    "              'Inflight Entertainment',\n",
    "              'Wifi & Connectivity',\n",
    "              'Value For Money',\n",
    "              'Recommended',\n",
    "              'Total Score'] \n",
    "\n",
    "# Get feature importances\n",
    "feature_importances = best_tree_classifier.feature_importances_\n",
    "\n",
    "# Create a pandas DataFrame to store the importances and corresponding feature names\n",
    "importance_df = pd.DataFrame({'Feature': coef_names, 'Importance': feature_importances})\n",
    "\n",
    "# Sort the DataFrame by importance values (optional but makes the plot look cleaner)\n",
    "importance_df = importance_df.sort_values(by='Importance', ascending=False)\n",
    "\n",
    "# Create a bar plot for feature importances\n",
    "plt.figure(figsize=(10, 6))\n",
    "plt.barh(importance_df['Feature'], importance_df['Importance'])\n",
    "plt.xlabel('Feature Importance')\n",
    "plt.ylabel('Feature')\n",
    "plt.title('Feature Importance Plot')\n",
    "plt.show()"
   ]
  },
  {
   "cell_type": "markdown",
   "metadata": {
    "cell_id": "d17c5d8722e943a9b679c962d74537ad",
    "deepnote_cell_type": "text-cell-p",
    "formattedRanges": [
     {
      "fromCodePoint": 0,
      "marks": {
       "bold": true
      },
      "toCodePoint": 13,
      "type": "marks"
     }
    ]
   },
   "source": [
    "Random Forest"
   ]
  },
  {
   "cell_type": "code",
   "execution_count": 49,
   "metadata": {
    "cell_id": "cdf10c7b39594bd5b545fdc84b15dafb",
    "deepnote_cell_type": "code",
    "deepnote_to_be_reexecuted": false,
    "execution_millis": 920,
    "execution_start": 1697463983228,
    "source_hash": null
   },
   "outputs": [
    {
     "name": "stdout",
     "output_type": "stream",
     "text": [
      "Confusion Matrix:\n",
      "[[ 625  189]\n",
      " [ 259 1213]]\n",
      "\n",
      "Classification Report:\n",
      "              precision    recall  f1-score   support\n",
      "\n",
      "           0       0.63      0.82      0.71       814\n",
      "           1       0.88      0.73      0.80      1472\n",
      "\n",
      "    accuracy                           0.76      2286\n",
      "   macro avg       0.75      0.77      0.75      2286\n",
      "weighted avg       0.79      0.76      0.77      2286\n",
      "\n"
     ]
    }
   ],
   "source": [
    "# Create a Random Forest classifier\n",
    "rf_classifier = RandomForestClassifier(n_estimators=100, random_state=42)\n",
    "\n",
    "# Fit the classifier to the training data\n",
    "rf_classifier.fit(X_train, y_train)\n",
    "\n",
    "# Make predictions on the test data\n",
    "y_pred = rf_classifier.predict(X_test)\n",
    "\n",
    "print(\"Confusion Matrix:\")\n",
    "print(conf_matrix)\n",
    "print(\"\\nClassification Report:\")\n",
    "print(classification_rep)"
   ]
  },
  {
   "cell_type": "code",
   "execution_count": 50,
   "metadata": {},
   "outputs": [
    {
     "data": {
      "image/png": "[encoded data removed]",
      "text/plain": [
       "<Figure size 1000x600 with 1 Axes>"
      ]
     },
     "metadata": {},
     "output_type": "display_data"
    }
   ],
   "source": [
    "coef_names = ['Seat Comfort',\n",
    "              'Cabin Staff Service',\n",
    "              'Food & Beverages',\n",
    "              'Ground Service',\n",
    "              'Inflight Entertainment',\n",
    "              'Wifi & Connectivity',\n",
    "              'Value For Money',\n",
    "              'Recommended',\n",
    "              'Total Score'] \n",
    "\n",
    "# Get feature importances\n",
    "feature_importances = rf_classifier.feature_importances_\n",
    "\n",
    "# Create a pandas DataFrame to store the importances and corresponding feature names\n",
    "importance_df = pd.DataFrame({'Feature': coef_names, 'Importance': feature_importances})\n",
    "\n",
    "# Sort the DataFrame by importance values (optional but makes the plot look cleaner)\n",
    "importance_df = importance_df.sort_values(by='Importance', ascending=False)\n",
    "\n",
    "# Create a bar plot for feature importances\n",
    "plt.figure(figsize=(10, 6))\n",
    "plt.barh(importance_df['Feature'], importance_df['Importance'])\n",
    "plt.xlabel('Feature Importance')\n",
    "plt.ylabel('Feature')\n",
    "plt.title('Feature Importance Plot')\n",
    "plt.show()"
   ]
  },
  {
   "cell_type": "markdown",
   "metadata": {
    "cell_id": "4ea3460ff81244c3a269a3b7f591e5a2",
    "deepnote_cell_type": "text-cell-h3",
    "formattedRanges": []
   },
   "source": [
    "### Sequential Application"
   ]
  },
  {
   "cell_type": "code",
   "execution_count": 51,
   "metadata": {
    "cell_id": "781228a8666a4966a0140782332840ef",
    "deepnote_cell_type": "code",
    "deepnote_to_be_reexecuted": false,
    "execution_millis": 227,
    "execution_start": 1697463984136,
    "source_hash": null
   },
   "outputs": [],
   "source": [
    "# smote\n",
    "\n",
    "smote = SMOTE(sampling_strategy='auto', random_state=42)\n",
    "X_train1, y_train1 = smote.fit_resample(X_train, y_train)\n",
    "\n",
    "# enn\n",
    "\n",
    "enn = EditedNearestNeighbours(sampling_strategy='auto', n_neighbors=3)\n",
    "X_train2, y_train2 = enn.fit_resample(X_train1, y_train1)\n",
    "\n",
    "# smoteenn\n",
    "\n",
    "smote_enn = SMOTEENN(sampling_strategy='auto', random_state=42)\n",
    "X_train3, y_train3 = smote_enn.fit_resample(X_train2, y_train2)"
   ]
  },
  {
   "cell_type": "markdown",
   "metadata": {
    "cell_id": "dd6905543be247679114e4be36c5ea3d",
    "deepnote_cell_type": "text-cell-p",
    "formattedRanges": [
     {
      "fromCodePoint": 0,
      "marks": {
       "bold": true
      },
      "toCodePoint": 19,
      "type": "marks"
     }
    ]
   },
   "source": [
    "Logistic Regression"
   ]
  },
  {
   "cell_type": "code",
   "execution_count": 52,
   "metadata": {
    "cell_id": "bfc41e00ca754436b45e1081c7ba2ed8",
    "deepnote_cell_type": "code",
    "deepnote_to_be_reexecuted": false,
    "execution_millis": 2242,
    "execution_start": 1697463985914,
    "source_hash": null
   },
   "outputs": [
    {
     "name": "stdout",
     "output_type": "stream",
     "text": [
      "Accuracy: 0.747594050743657\n",
      "Confusion Matrix:\n",
      "[[757  57]\n",
      " [520 952]]\n",
      "Classification Report:\n",
      "              precision    recall  f1-score   support\n",
      "\n",
      "           0       0.59      0.93      0.72       814\n",
      "           1       0.94      0.65      0.77      1472\n",
      "\n",
      "    accuracy                           0.75      2286\n",
      "   macro avg       0.77      0.79      0.75      2286\n",
      "weighted avg       0.82      0.75      0.75      2286\n",
      "\n"
     ]
    }
   ],
   "source": [
    "model = LogisticRegression()\n",
    "model.fit(X_train3, y_train3)\n",
    "\n",
    "y_pred = model.predict(X_test)\n",
    "\n",
    "accuracy = accuracy_score(y_test, y_pred)\n",
    "confusion = confusion_matrix(y_test, y_pred)\n",
    "classification_rep = classification_report(y_test, y_pred)\n",
    "\n",
    "print(f'Accuracy: {accuracy}')\n",
    "print(f'Confusion Matrix:\\n{confusion}')\n",
    "print(f'Classification Report:\\n{classification_rep}')"
   ]
  },
  {
   "cell_type": "markdown",
   "metadata": {
    "cell_id": "01196acdd1ff4c3aa1c2fa445d23c413",
    "deepnote_cell_type": "text-cell-p",
    "formattedRanges": [
     {
      "fromCodePoint": 0,
      "marks": {
       "bold": true
      },
      "toCodePoint": 13,
      "type": "marks"
     }
    ]
   },
   "source": [
    "Decision Tree"
   ]
  },
  {
   "cell_type": "code",
   "execution_count": 53,
   "metadata": {
    "cell_id": "d856182d674e46aaac23e9bb47257ec2",
    "deepnote_cell_type": "code",
    "deepnote_to_be_reexecuted": false,
    "execution_millis": 221,
    "execution_start": 1697463988232,
    "source_hash": null
   },
   "outputs": [
    {
     "name": "stdout",
     "output_type": "stream",
     "text": [
      "Accuracy: 0.64\n",
      "Precision: 0.94\n",
      "Recall: 0.47\n",
      "F1-score: 0.63\n",
      "Confusion Matrix:\n",
      "[[773  41]\n",
      " [781 691]]\n"
     ]
    }
   ],
   "source": [
    "# decision tree classifier\n",
    "tree_classifier = DecisionTreeClassifier()\n",
    "tree_classifier.fit(X_train3, y_train3)\n",
    "\n",
    "# making predictions using decision tree classifier\n",
    "y_pred = tree_classifier.predict(X_test)\n",
    "\n",
    "param_grid = {\n",
    "    'max_depth': [None, 10, 20, 30],\n",
    "    'min_samples_split': [2, 5, 10],\n",
    "    'min_samples_leaf': [1, 2, 4]\n",
    "}\n",
    "\n",
    "grid_search = GridSearchCV(DecisionTreeClassifier(), param_grid, cv=5)\n",
    "grid_search.fit(X_train3, y_train3)\n",
    "\n",
    "best_tree_classifier = grid_search.best_estimator_\n",
    "\n",
    "# evaluation metrics\n",
    "\n",
    "y_pred = best_tree_classifier.predict(X_test)\n",
    "\n",
    "# Calculate accuracy\n",
    "accuracy = accuracy_score(y_test, y_pred)\n",
    "print(f'Accuracy: {accuracy:.2f}')\n",
    "\n",
    "# Calculate precision\n",
    "precision = precision_score(y_test, y_pred)\n",
    "print(f'Precision: {precision:.2f}')\n",
    "\n",
    "# Calculate recall\n",
    "recall = recall_score(y_test, y_pred)\n",
    "print(f'Recall: {recall:.2f}')\n",
    "\n",
    "# Calculate F1-score\n",
    "f1 = f1_score(y_test, y_pred)\n",
    "print(f'F1-score: {f1:.2f}')\n",
    "\n",
    "# Generate a confusion matrix\n",
    "conf_matrix = confusion_matrix(y_test, y_pred)\n",
    "print('Confusion Matrix:')\n",
    "print(conf_matrix)"
   ]
  },
  {
   "cell_type": "markdown",
   "metadata": {
    "cell_id": "01a3fb9b3681480cab1154bf9ca75bd6",
    "deepnote_cell_type": "text-cell-p",
    "formattedRanges": [
     {
      "fromCodePoint": 0,
      "marks": {
       "bold": true
      },
      "toCodePoint": 13,
      "type": "marks"
     }
    ]
   },
   "source": [
    "Random Forest"
   ]
  },
  {
   "cell_type": "code",
   "execution_count": 54,
   "metadata": {
    "cell_id": "f37454b5e51a4336944eb13aaf71883f",
    "deepnote_cell_type": "code",
    "deepnote_to_be_reexecuted": false,
    "execution_millis": 1221,
    "execution_start": 1697463992314,
    "source_hash": null
   },
   "outputs": [
    {
     "name": "stdout",
     "output_type": "stream",
     "text": [
      "Confusion Matrix:\n",
      "[[773  41]\n",
      " [781 691]]\n",
      "\n",
      "Classification Report:\n",
      "              precision    recall  f1-score   support\n",
      "\n",
      "           0       0.59      0.93      0.72       814\n",
      "           1       0.94      0.65      0.77      1472\n",
      "\n",
      "    accuracy                           0.75      2286\n",
      "   macro avg       0.77      0.79      0.75      2286\n",
      "weighted avg       0.82      0.75      0.75      2286\n",
      "\n"
     ]
    }
   ],
   "source": [
    "# Create a Random Forest classifier\n",
    "rf_classifier = RandomForestClassifier(n_estimators=100, random_state=42)\n",
    "\n",
    "# Fit the classifier to the training data\n",
    "rf_classifier.fit(X_train3, y_train3)\n",
    "\n",
    "# Make predictions on the test data\n",
    "y_pred = rf_classifier.predict(X_test)\n",
    "\n",
    "print(\"Confusion Matrix:\")\n",
    "print(conf_matrix)\n",
    "print(\"\\nClassification Report:\")\n",
    "print(classification_rep)"
   ]
  },
  {
   "cell_type": "markdown",
   "metadata": {
    "cell_id": "f634f508ed30400b93e3a12ae329d671",
    "deepnote_cell_type": "text-cell-h3",
    "formattedRanges": [],
    "is_collapsed": false
   },
   "source": [
    "### Parallel Application"
   ]
  },
  {
   "cell_type": "markdown",
   "metadata": {
    "cell_id": "184bb28380f3415ebb3ce821c4af0a1f",
    "deepnote_cell_type": "text-cell-p",
    "formattedRanges": [
     {
      "fromCodePoint": 0,
      "marks": {
       "bold": true
      },
      "toCodePoint": 5,
      "type": "marks"
     }
    ]
   },
   "source": [
    "SMOTE"
   ]
  },
  {
   "cell_type": "markdown",
   "metadata": {
    "cell_id": "d9fb68cc22114ea39e4896075d28c1bb",
    "deepnote_cell_type": "text-cell-p",
    "formattedRanges": [
     {
      "fromCodePoint": 0,
      "marks": {
       "underline": true
      },
      "toCodePoint": 19,
      "type": "marks"
     }
    ]
   },
   "source": [
    "Logistic Regression"
   ]
  },
  {
   "cell_type": "code",
   "execution_count": 55,
   "metadata": {
    "cell_id": "923e17308f2b494fa7a45d9397144380",
    "deepnote_cell_type": "code",
    "deepnote_to_be_reexecuted": false,
    "execution_millis": 65,
    "execution_start": 1697464003864,
    "source_hash": null
   },
   "outputs": [
    {
     "name": "stdout",
     "output_type": "stream",
     "text": [
      "Accuracy: 0.7594050743657043\n",
      "Confusion Matrix:\n",
      "[[ 728   86]\n",
      " [ 464 1008]]\n",
      "Classification Report:\n",
      "              precision    recall  f1-score   support\n",
      "\n",
      "           0       0.61      0.89      0.73       814\n",
      "           1       0.92      0.68      0.79      1472\n",
      "\n",
      "    accuracy                           0.76      2286\n",
      "   macro avg       0.77      0.79      0.76      2286\n",
      "weighted avg       0.81      0.76      0.76      2286\n",
      "\n"
     ]
    }
   ],
   "source": [
    "# smote\n",
    "\n",
    "smote = SMOTE(sampling_strategy='auto', random_state=42)\n",
    "X_train1, y_train1 = smote.fit_resample(X_train, y_train)\n",
    "\n",
    "model1 = LogisticRegression()\n",
    "model1.fit(X_train1, y_train1)\n",
    "\n",
    "y_pred1 = model1.predict(X_test)\n",
    "\n",
    "accuracy = accuracy_score(y_test, y_pred1)\n",
    "confusion = confusion_matrix(y_test, y_pred1)\n",
    "classification_rep = classification_report(y_test, y_pred1)\n",
    "\n",
    "print(f'Accuracy: {accuracy}')\n",
    "print(f'Confusion Matrix:\\n{confusion}')\n",
    "print(f'Classification Report:\\n{classification_rep}')"
   ]
  },
  {
   "cell_type": "markdown",
   "metadata": {
    "cell_id": "b8ecd31718c44c2fbddec57e7f59df07",
    "deepnote_cell_type": "text-cell-p",
    "formattedRanges": [
     {
      "fromCodePoint": 0,
      "marks": {
       "underline": true
      },
      "toCodePoint": 13,
      "type": "marks"
     }
    ]
   },
   "source": [
    "Decision Tree"
   ]
  },
  {
   "cell_type": "code",
   "execution_count": 56,
   "metadata": {
    "cell_id": "50c2ace067a34ac6b09db5c0e63e7ce0",
    "deepnote_cell_type": "code",
    "deepnote_to_be_reexecuted": false,
    "execution_millis": 95,
    "execution_start": 1697464016865,
    "source_hash": null
   },
   "outputs": [
    {
     "name": "stdout",
     "output_type": "stream",
     "text": [
      "Accuracy: 0.78\n",
      "Precision: 0.86\n",
      "Recall: 0.79\n",
      "F1-score: 0.82\n",
      "Confusion Matrix:\n",
      "[[ 620  194]\n",
      " [ 315 1157]]\n"
     ]
    }
   ],
   "source": [
    "tree_classifier1 = DecisionTreeClassifier()\n",
    "tree_classifier1.fit(X_train1, y_train1)\n",
    "\n",
    "# making predictions using decision tree classifier\n",
    "y_pred1 = tree_classifier1.predict(X_test)\n",
    "\n",
    "param_grid = {\n",
    "    'max_depth': [None, 10, 20, 30],\n",
    "    'min_samples_split': [2, 5, 10],\n",
    "    'min_samples_leaf': [1, 2, 4]\n",
    "}\n",
    "\n",
    "grid_search = GridSearchCV(tree_classifier1, param_grid, cv=5)\n",
    "grid_search.fit(X_train1, y_train1)\n",
    "\n",
    "best_tree_classifier1 = grid_search.best_estimator_\n",
    "\n",
    "# evaluation metrics\n",
    "\n",
    "y_pred = best_tree_classifier1.predict(X_test)\n",
    "\n",
    "# Calculate accuracy\n",
    "accuracy = accuracy_score(y_test, y_pred1)\n",
    "print(f'Accuracy: {accuracy:.2f}')\n",
    "\n",
    "# Calculate precision\n",
    "precision = precision_score(y_test, y_pred1)\n",
    "print(f'Precision: {precision:.2f}')\n",
    "\n",
    "# Calculate recall\n",
    "recall = recall_score(y_test, y_pred1)\n",
    "print(f'Recall: {recall:.2f}')\n",
    "\n",
    "# Calculate F1-score\n",
    "f1 = f1_score(y_test, y_pred1)\n",
    "print(f'F1-score: {f1:.2f}')\n",
    "\n",
    "# Generate a confusion matrix\n",
    "conf_matrix = confusion_matrix(y_test, y_pred1)\n",
    "print('Confusion Matrix:')\n",
    "print(conf_matrix)"
   ]
  },
  {
   "cell_type": "markdown",
   "metadata": {
    "cell_id": "42e3249fba9c4b06abc79b8e2159f77e",
    "deepnote_cell_type": "text-cell-p",
    "formattedRanges": [
     {
      "fromCodePoint": 0,
      "marks": {
       "underline": true
      },
      "toCodePoint": 13,
      "type": "marks"
     }
    ]
   },
   "source": [
    "Random Forest"
   ]
  },
  {
   "cell_type": "code",
   "execution_count": 57,
   "metadata": {
    "cell_id": "54ed367885834568bb3dc69038f1a5af",
    "deepnote_cell_type": "code",
    "deepnote_to_be_reexecuted": false,
    "execution_millis": 1285,
    "execution_start": 1697464017061,
    "source_hash": null
   },
   "outputs": [
    {
     "name": "stdout",
     "output_type": "stream",
     "text": [
      "Confusion Matrix:\n",
      "[[ 620  194]\n",
      " [ 315 1157]]\n",
      "\n",
      "Classification Report:\n",
      "              precision    recall  f1-score   support\n",
      "\n",
      "           0       0.61      0.89      0.73       814\n",
      "           1       0.92      0.68      0.79      1472\n",
      "\n",
      "    accuracy                           0.76      2286\n",
      "   macro avg       0.77      0.79      0.76      2286\n",
      "weighted avg       0.81      0.76      0.76      2286\n",
      "\n"
     ]
    }
   ],
   "source": [
    "# Create a Random Forest classifier\n",
    "rf_classifier = RandomForestClassifier(n_estimators=100, random_state=42)\n",
    "\n",
    "# Fit the classifier to the training data\n",
    "rf_classifier.fit(X_train1, y_train1)\n",
    "\n",
    "# Make predictions on the test data\n",
    "y_pred = rf_classifier.predict(X_test)\n",
    "\n",
    "print(\"Confusion Matrix:\")\n",
    "print(conf_matrix)\n",
    "print(\"\\nClassification Report:\")\n",
    "print(classification_rep)"
   ]
  },
  {
   "cell_type": "markdown",
   "metadata": {
    "cell_id": "b075901a799f44d896211f81bba6dd3d",
    "deepnote_cell_type": "text-cell-p",
    "formattedRanges": [
     {
      "fromCodePoint": 0,
      "marks": {
       "bold": true
      },
      "toCodePoint": 3,
      "type": "marks"
     }
    ]
   },
   "source": [
    "ENN"
   ]
  },
  {
   "cell_type": "markdown",
   "metadata": {
    "cell_id": "a01ba010c43e4aad8998c50ee4de69ce",
    "deepnote_cell_type": "text-cell-p",
    "formattedRanges": [
     {
      "fromCodePoint": 0,
      "marks": {
       "underline": true
      },
      "toCodePoint": 19,
      "type": "marks"
     }
    ]
   },
   "source": [
    "Logistic Regression"
   ]
  },
  {
   "cell_type": "code",
   "execution_count": 58,
   "metadata": {
    "cell_id": "20e79f4718d34a5dbccc40a0053d2e0c",
    "deepnote_cell_type": "code",
    "deepnote_to_be_reexecuted": false,
    "execution_millis": 77,
    "execution_start": 1697464003909,
    "source_hash": null
   },
   "outputs": [
    {
     "name": "stdout",
     "output_type": "stream",
     "text": [
      "Accuracy: 0.7545931758530183\n",
      "Confusion Matrix:\n",
      "[[729  85]\n",
      " [476 996]]\n",
      "Classification Report:\n",
      "              precision    recall  f1-score   support\n",
      "\n",
      "           0       0.60      0.90      0.72       814\n",
      "           1       0.92      0.68      0.78      1472\n",
      "\n",
      "    accuracy                           0.75      2286\n",
      "   macro avg       0.76      0.79      0.75      2286\n",
      "weighted avg       0.81      0.75      0.76      2286\n",
      "\n"
     ]
    }
   ],
   "source": [
    "# enn\n",
    "\n",
    "enn = EditedNearestNeighbours(sampling_strategy='auto', n_neighbors=3)\n",
    "X_train2, y_train2 = enn.fit_resample(X_train, y_train)\n",
    "\n",
    "model2 = LogisticRegression()\n",
    "model2.fit(X_train2, y_train2)\n",
    "\n",
    "y_pred2 = model2.predict(X_test)\n",
    "\n",
    "accuracy = accuracy_score(y_test, y_pred2)\n",
    "confusion = confusion_matrix(y_test, y_pred2)\n",
    "classification_rep = classification_report(y_test, y_pred2)\n",
    "\n",
    "print(f'Accuracy: {accuracy}')\n",
    "print(f'Confusion Matrix:\\n{confusion}')\n",
    "print(f'Classification Report:\\n{classification_rep}')"
   ]
  },
  {
   "cell_type": "markdown",
   "metadata": {
    "cell_id": "b684f6f646e64a828a5302ad2fc21b65",
    "deepnote_cell_type": "text-cell-p",
    "formattedRanges": [
     {
      "fromCodePoint": 0,
      "marks": {
       "underline": true
      },
      "toCodePoint": 13,
      "type": "marks"
     }
    ]
   },
   "source": [
    "Decision Tree"
   ]
  },
  {
   "cell_type": "code",
   "execution_count": 59,
   "metadata": {
    "cell_id": "6a6adb68cf60433c8dcc99605064dda2",
    "deepnote_cell_type": "code",
    "deepnote_to_be_reexecuted": false,
    "execution_millis": 40,
    "execution_start": 1697464016946,
    "source_hash": null
   },
   "outputs": [
    {
     "name": "stdout",
     "output_type": "stream",
     "text": [
      "Accuracy: 0.76\n",
      "Precision: 0.90\n",
      "Recall: 0.69\n",
      "F1-score: 0.79\n",
      "Confusion Matrix:\n",
      "[[ 706  108]\n",
      " [ 451 1021]]\n"
     ]
    }
   ],
   "source": [
    "tree_classifier2 = DecisionTreeClassifier()\n",
    "tree_classifier2.fit(X_train2, y_train2)\n",
    "\n",
    "# making predictions using decision tree classifier\n",
    "y_pred2 = tree_classifier2.predict(X_test)\n",
    "\n",
    "param_grid = {\n",
    "    'max_depth': [None, 10, 20, 30],\n",
    "    'min_samples_split': [2, 5, 10],\n",
    "    'min_samples_leaf': [1, 2, 4]\n",
    "}\n",
    "\n",
    "grid_search = GridSearchCV(tree_classifier2, param_grid, cv=5)\n",
    "grid_search.fit(X_train2, y_train2)\n",
    "\n",
    "best_tree_classifier2 = grid_search.best_estimator_\n",
    "\n",
    "# evaluation metrics\n",
    "\n",
    "y_pred = best_tree_classifier2.predict(X_test)\n",
    "\n",
    "# Calculate accuracy\n",
    "accuracy = accuracy_score(y_test, y_pred2)\n",
    "print(f'Accuracy: {accuracy:.2f}')\n",
    "\n",
    "# Calculate precision\n",
    "precision = precision_score(y_test, y_pred2)\n",
    "print(f'Precision: {precision:.2f}')\n",
    "\n",
    "# Calculate recall\n",
    "recall = recall_score(y_test, y_pred2)\n",
    "print(f'Recall: {recall:.2f}')\n",
    "\n",
    "# Calculate F1-score\n",
    "f1 = f1_score(y_test, y_pred2)\n",
    "print(f'F1-score: {f1:.2f}')\n",
    "\n",
    "# Generate a confusion matrix\n",
    "conf_matrix = confusion_matrix(y_test, y_pred2)\n",
    "print('Confusion Matrix:')\n",
    "print(conf_matrix)"
   ]
  },
  {
   "cell_type": "markdown",
   "metadata": {
    "cell_id": "047176d334484d4f8709d6ddeb7a767a",
    "deepnote_cell_type": "text-cell-p",
    "formattedRanges": [
     {
      "fromCodePoint": 0,
      "marks": {
       "underline": true
      },
      "toCodePoint": 13,
      "type": "marks"
     }
    ]
   },
   "source": [
    "Random Forest"
   ]
  },
  {
   "cell_type": "code",
   "execution_count": 60,
   "metadata": {
    "cell_id": "0f67fd9a3f8545a989a961ae142ccce5",
    "deepnote_cell_type": "code",
    "deepnote_to_be_reexecuted": false,
    "execution_millis": 1021,
    "execution_start": 1697464018339,
    "source_hash": null
   },
   "outputs": [
    {
     "name": "stdout",
     "output_type": "stream",
     "text": [
      "Confusion Matrix:\n",
      "[[ 706  108]\n",
      " [ 451 1021]]\n",
      "\n",
      "Classification Report:\n",
      "              precision    recall  f1-score   support\n",
      "\n",
      "           0       0.60      0.90      0.72       814\n",
      "           1       0.92      0.68      0.78      1472\n",
      "\n",
      "    accuracy                           0.75      2286\n",
      "   macro avg       0.76      0.79      0.75      2286\n",
      "weighted avg       0.81      0.75      0.76      2286\n",
      "\n"
     ]
    }
   ],
   "source": [
    "# Create a Random Forest classifier\n",
    "rf_classifier = RandomForestClassifier(n_estimators=100, random_state=42)\n",
    "\n",
    "# Fit the classifier to the training data\n",
    "rf_classifier.fit(X_train2, y_train2)\n",
    "\n",
    "# Make predictions on the test data\n",
    "y_pred = rf_classifier.predict(X_test)\n",
    "\n",
    "print(\"Confusion Matrix:\")\n",
    "print(conf_matrix)\n",
    "print(\"\\nClassification Report:\")\n",
    "print(classification_rep)"
   ]
  },
  {
   "cell_type": "markdown",
   "metadata": {
    "cell_id": "6031837bfa5a43cba22c559faed2f22a",
    "deepnote_cell_type": "text-cell-p",
    "formattedRanges": [
     {
      "fromCodePoint": 0,
      "marks": {
       "bold": true
      },
      "toCodePoint": 9,
      "type": "marks"
     }
    ]
   },
   "source": [
    "SMOTE-ENN"
   ]
  },
  {
   "cell_type": "markdown",
   "metadata": {
    "cell_id": "43186b4f8d2d47e9a3f4621f23dd1298",
    "deepnote_cell_type": "text-cell-p",
    "formattedRanges": [
     {
      "fromCodePoint": 0,
      "marks": {
       "underline": true
      },
      "toCodePoint": 19,
      "type": "marks"
     }
    ]
   },
   "source": [
    "Logistic Regression"
   ]
  },
  {
   "cell_type": "code",
   "execution_count": 61,
   "metadata": {
    "cell_id": "b449df5677f64a91afeeed395339efcc",
    "deepnote_cell_type": "code",
    "deepnote_to_be_reexecuted": false,
    "execution_millis": 41,
    "execution_start": 1697464004013,
    "source_hash": null
   },
   "outputs": [
    {
     "name": "stdout",
     "output_type": "stream",
     "text": [
      "Accuracy: 0.7598425196850394\n",
      "Confusion Matrix:\n",
      "[[ 702  112]\n",
      " [ 437 1035]]\n",
      "Classification Report:\n",
      "              precision    recall  f1-score   support\n",
      "\n",
      "           0       0.62      0.86      0.72       814\n",
      "           1       0.90      0.70      0.79      1472\n",
      "\n",
      "    accuracy                           0.76      2286\n",
      "   macro avg       0.76      0.78      0.75      2286\n",
      "weighted avg       0.80      0.76      0.76      2286\n",
      "\n"
     ]
    }
   ],
   "source": [
    "# smoteenn\n",
    "\n",
    "smote_enn = SMOTEENN(sampling_strategy='auto', random_state=42)\n",
    "X_train3, y_train3 = smote_enn.fit_resample(X_train, y_train)\n",
    "\n",
    "model3 = LogisticRegression()\n",
    "model3.fit(X_train3, y_train3)\n",
    "\n",
    "y_pred3 = model3.predict(X_test)\n",
    "\n",
    "accuracy = accuracy_score(y_test, y_pred3)\n",
    "confusion = confusion_matrix(y_test, y_pred3)\n",
    "classification_rep = classification_report(y_test, y_pred3)\n",
    "\n",
    "print(f'Accuracy: {accuracy}')\n",
    "print(f'Confusion Matrix:\\n{confusion}')\n",
    "print(f'Classification Report:\\n{classification_rep}')"
   ]
  },
  {
   "cell_type": "markdown",
   "metadata": {
    "cell_id": "1d75f73bb1ec460bb9c9232e5d074870",
    "deepnote_cell_type": "text-cell-p",
    "formattedRanges": [
     {
      "fromCodePoint": 0,
      "marks": {
       "underline": true
      },
      "toCodePoint": 13,
      "type": "marks"
     }
    ]
   },
   "source": [
    "Decision Tree"
   ]
  },
  {
   "cell_type": "code",
   "execution_count": 62,
   "metadata": {
    "cell_id": "1936f3e8504343bf849b684b63091fb0",
    "deepnote_cell_type": "code",
    "deepnote_to_be_reexecuted": false,
    "execution_millis": 61,
    "execution_start": 1697464017034,
    "source_hash": null
   },
   "outputs": [
    {
     "name": "stdout",
     "output_type": "stream",
     "text": [
      "Accuracy: 0.79\n",
      "Precision: 0.90\n",
      "Recall: 0.76\n",
      "F1-score: 0.83\n",
      "Confusion Matrix:\n",
      "[[ 687  127]\n",
      " [ 349 1123]]\n"
     ]
    }
   ],
   "source": [
    "tree_classifier3 = DecisionTreeClassifier()\n",
    "tree_classifier3.fit(X_train3, y_train3)\n",
    "\n",
    "# making predictions using decision tree classifier\n",
    "y_pred3 = tree_classifier3.predict(X_test)\n",
    "\n",
    "param_grid = {\n",
    "    'max_depth': [None, 10, 20, 30],\n",
    "    'min_samples_split': [2, 5, 10],\n",
    "    'min_samples_leaf': [1, 2, 4]\n",
    "}\n",
    "\n",
    "grid_search = GridSearchCV(tree_classifier3, param_grid, cv=5)\n",
    "grid_search.fit(X_train3, y_train3)\n",
    "\n",
    "best_tree_classifier3 = grid_search.best_estimator_\n",
    "\n",
    "# evaluation metrics\n",
    "\n",
    "y_pred = best_tree_classifier3.predict(X_test)\n",
    "\n",
    "# Calculate accuracy\n",
    "accuracy = accuracy_score(y_test, y_pred3)\n",
    "print(f'Accuracy: {accuracy:.2f}')\n",
    "\n",
    "# Calculate precision\n",
    "precision = precision_score(y_test, y_pred3)\n",
    "print(f'Precision: {precision:.2f}')\n",
    "\n",
    "# Calculate recall\n",
    "recall = recall_score(y_test, y_pred3)\n",
    "print(f'Recall: {recall:.2f}')\n",
    "\n",
    "# Calculate F1-score\n",
    "f1 = f1_score(y_test, y_pred3)\n",
    "print(f'F1-score: {f1:.2f}')\n",
    "\n",
    "# Generate a confusion matrix\n",
    "conf_matrix = confusion_matrix(y_test, y_pred3)\n",
    "print('Confusion Matrix:')\n",
    "print(conf_matrix)"
   ]
  },
  {
   "cell_type": "markdown",
   "metadata": {
    "cell_id": "791177de57e54ef1b2a4d64205077ada",
    "deepnote_cell_type": "text-cell-p",
    "formattedRanges": [
     {
      "fromCodePoint": 0,
      "marks": {
       "underline": true
      },
      "toCodePoint": 13,
      "type": "marks"
     }
    ]
   },
   "source": [
    "Random Forest"
   ]
  },
  {
   "cell_type": "code",
   "execution_count": 63,
   "metadata": {
    "cell_id": "06e13250d8ea480f90c3703578d5c904",
    "deepnote_cell_type": "code",
    "deepnote_to_be_reexecuted": false,
    "execution_millis": 999,
    "execution_start": 1697464019453,
    "source_hash": null
   },
   "outputs": [
    {
     "name": "stdout",
     "output_type": "stream",
     "text": [
      "Confusion Matrix:\n",
      "[[ 687  127]\n",
      " [ 349 1123]]\n",
      "\n",
      "Classification Report:\n",
      "              precision    recall  f1-score   support\n",
      "\n",
      "           0       0.62      0.86      0.72       814\n",
      "           1       0.90      0.70      0.79      1472\n",
      "\n",
      "    accuracy                           0.76      2286\n",
      "   macro avg       0.76      0.78      0.75      2286\n",
      "weighted avg       0.80      0.76      0.76      2286\n",
      "\n"
     ]
    }
   ],
   "source": [
    "# Create a Random Forest classifier\n",
    "rf_classifier = RandomForestClassifier(n_estimators=100, random_state=42)\n",
    "\n",
    "# Fit the classifier to the training data\n",
    "rf_classifier.fit(X_train3, y_train3)\n",
    "\n",
    "# Make predictions on the test data\n",
    "y_pred = rf_classifier.predict(X_test)\n",
    "\n",
    "print(\"Confusion Matrix:\")\n",
    "print(conf_matrix)\n",
    "print(\"\\nClassification Report:\")\n",
    "print(classification_rep)"
   ]
  },
  {
   "cell_type": "markdown",
   "metadata": {
    "cell_id": "19483f24eed34980b029d795f40ab458",
    "deepnote_cell_type": "text-cell-h2",
    "formattedRanges": []
   },
   "source": [
    "## Post-Covid"
   ]
  },
  {
   "cell_type": "code",
   "execution_count": 64,
   "metadata": {
    "cell_id": "a70bac54e2dc4bb295b23505f1be0a35",
    "deepnote_cell_type": "code",
    "deepnote_to_be_reexecuted": false,
    "execution_millis": 28,
    "execution_start": 1697464020438,
    "source_hash": null
   },
   "outputs": [],
   "source": [
    "post_covid3 = post_covid.copy()\n",
    "post_covid3.drop('Review Period', axis=1, inplace=True)\n",
    "\n",
    "# dropping target variable from x\n",
    "X = post_covid3.drop('sentiment', axis=1)  \n",
    "\n",
    "# target variable\n",
    "y = post_covid3['sentiment']\n",
    "\n",
    "X_train, X_test, y_train, y_test = train_test_split(X, y, test_size=0.2, random_state=42)"
   ]
  },
  {
   "cell_type": "markdown",
   "metadata": {
    "cell_id": "2fa5356c0821473293d79163875290e1",
    "deepnote_cell_type": "text-cell-h3",
    "formattedRanges": []
   },
   "source": [
    "### No Resampling"
   ]
  },
  {
   "cell_type": "markdown",
   "metadata": {
    "cell_id": "96b4480ecd634bc7aae26c781dfbed96",
    "deepnote_cell_type": "text-cell-p",
    "formattedRanges": [
     {
      "fromCodePoint": 0,
      "marks": {
       "bold": true
      },
      "toCodePoint": 19,
      "type": "marks"
     }
    ]
   },
   "source": [
    "Logistic Regression"
   ]
  },
  {
   "cell_type": "code",
   "execution_count": 65,
   "metadata": {
    "cell_id": "d1ecfbb6f0f24b30873ab1d53804af38",
    "deepnote_cell_type": "code",
    "deepnote_to_be_reexecuted": false,
    "execution_millis": 1884,
    "execution_start": 1697464020453,
    "source_hash": null
   },
   "outputs": [
    {
     "name": "stdout",
     "output_type": "stream",
     "text": [
      "Accuracy: 0.7616006811409111\n",
      "Confusion Matrix:\n",
      "[[1217   97]\n",
      " [ 463  572]]\n",
      "Classification Report:\n",
      "              precision    recall  f1-score   support\n",
      "\n",
      "           0       0.72      0.93      0.81      1314\n",
      "           1       0.86      0.55      0.67      1035\n",
      "\n",
      "    accuracy                           0.76      2349\n",
      "   macro avg       0.79      0.74      0.74      2349\n",
      "weighted avg       0.78      0.76      0.75      2349\n",
      "\n"
     ]
    }
   ],
   "source": [
    "model = LogisticRegression()\n",
    "model.fit(X_train, y_train)\n",
    "\n",
    "y_pred = model.predict(X_test)\n",
    "\n",
    "accuracy = accuracy_score(y_test, y_pred)\n",
    "confusion = confusion_matrix(y_test, y_pred)\n",
    "classification_rep = classification_report(y_test, y_pred)\n",
    "\n",
    "print(f'Accuracy: {accuracy}')\n",
    "print(f'Confusion Matrix:\\n{confusion}')\n",
    "print(f'Classification Report:\\n{classification_rep}')"
   ]
  },
  {
   "cell_type": "code",
   "execution_count": 66,
   "metadata": {},
   "outputs": [
    {
     "data": {
      "image/png": "[encoded data removed]",
      "text/plain": [
       "<Figure size 1000x600 with 1 Axes>"
      ]
     },
     "metadata": {},
     "output_type": "display_data"
    }
   ],
   "source": [
    "coef_names = ['Seat Comfort',\n",
    "              'Cabin Staff Service',\n",
    "              'Food & Beverages',\n",
    "              'Ground Service',\n",
    "              'Inflight Entertainment',\n",
    "              'Wifi & Connectivity',\n",
    "              'Value For Money',\n",
    "              'Recommended',\n",
    "              'Total Score']  \n",
    "\n",
    "coef_values = model.coef_[0]\n",
    "\n",
    "plt.figure(figsize=(10, 6))\n",
    "sns.barplot(x=coef_values, y=coef_names)\n",
    "plt.xlabel('Coefficient Value')\n",
    "plt.ylabel('Independent Variables')\n",
    "plt.title('Logistic Regression Coefficients')\n",
    "plt.show()"
   ]
  },
  {
   "cell_type": "markdown",
   "metadata": {
    "cell_id": "3ddb85659a4047c59c064d28d0d83612",
    "deepnote_cell_type": "text-cell-p",
    "formattedRanges": [
     {
      "fromCodePoint": 0,
      "marks": {
       "bold": true
      },
      "toCodePoint": 13,
      "type": "marks"
     }
    ]
   },
   "source": [
    "Decision Tree"
   ]
  },
  {
   "cell_type": "code",
   "execution_count": 67,
   "metadata": {
    "cell_id": "b9b1f9ab71c94112b000682538e0a178",
    "deepnote_cell_type": "code",
    "deepnote_to_be_reexecuted": false,
    "execution_millis": 11664,
    "execution_start": 1697464022341,
    "source_hash": null
   },
   "outputs": [
    {
     "name": "stdout",
     "output_type": "stream",
     "text": [
      "Accuracy: 0.75\n",
      "Precision: 0.86\n",
      "Recall: 0.52\n",
      "F1-score: 0.65\n",
      "Confusion Matrix:\n",
      "[[1228   86]\n",
      " [ 492  543]]\n"
     ]
    }
   ],
   "source": [
    "# decision tree classifier\n",
    "tree_classifier = DecisionTreeClassifier()\n",
    "tree_classifier.fit(X_train, y_train)\n",
    "\n",
    "# making predictions using decision tree classifier\n",
    "y_pred = tree_classifier.predict(X_test)\n",
    "\n",
    "param_grid = {\n",
    "    'max_depth': [None, 10, 20, 30],\n",
    "    'min_samples_split': [2, 5, 10],\n",
    "    'min_samples_leaf': [1, 2, 4]\n",
    "}\n",
    "\n",
    "grid_search = GridSearchCV(DecisionTreeClassifier(), param_grid, cv=5)\n",
    "grid_search.fit(X_train, y_train)\n",
    "\n",
    "best_tree_classifier = grid_search.best_estimator_\n",
    "\n",
    "# evaluation metrics\n",
    "\n",
    "y_pred = best_tree_classifier.predict(X_test)\n",
    "\n",
    "# Calculate accuracy\n",
    "accuracy = accuracy_score(y_test, y_pred)\n",
    "print(f'Accuracy: {accuracy:.2f}')\n",
    "\n",
    "# Calculate precision\n",
    "precision = precision_score(y_test, y_pred)\n",
    "print(f'Precision: {precision:.2f}')\n",
    "\n",
    "# Calculate recall\n",
    "recall = recall_score(y_test, y_pred)\n",
    "print(f'Recall: {recall:.2f}')\n",
    "\n",
    "# Calculate F1-score\n",
    "f1 = f1_score(y_test, y_pred)\n",
    "print(f'F1-score: {f1:.2f}')\n",
    "\n",
    "# Generate a confusion matrix\n",
    "conf_matrix = confusion_matrix(y_test, y_pred)\n",
    "print('Confusion Matrix:')\n",
    "print(conf_matrix)"
   ]
  },
  {
   "cell_type": "code",
   "execution_count": 68,
   "metadata": {},
   "outputs": [
    {
     "data": {
      "image/png": "[encoded data removed]",
      "text/plain": [
       "<Figure size 1000x600 with 1 Axes>"
      ]
     },
     "metadata": {},
     "output_type": "display_data"
    }
   ],
   "source": [
    "coef_names = ['Seat Comfort',\n",
    "              'Cabin Staff Service',\n",
    "              'Food & Beverages',\n",
    "              'Ground Service',\n",
    "              'Inflight Entertainment',\n",
    "              'Wifi & Connectivity',\n",
    "              'Value For Money',\n",
    "              'Recommended',\n",
    "              'Total Score'] \n",
    "\n",
    "# Get feature importances\n",
    "feature_importances = best_tree_classifier.feature_importances_\n",
    "\n",
    "# Create a pandas DataFrame to store the importances and corresponding feature names\n",
    "importance_df = pd.DataFrame({'Feature': coef_names, 'Importance': feature_importances})\n",
    "\n",
    "# Sort the DataFrame by importance values (optional but makes the plot look cleaner)\n",
    "importance_df = importance_df.sort_values(by='Importance', ascending=False)\n",
    "\n",
    "# Create a bar plot for feature importances\n",
    "plt.figure(figsize=(10, 6))\n",
    "plt.barh(importance_df['Feature'], importance_df['Importance'])\n",
    "plt.xlabel('Feature Importance')\n",
    "plt.ylabel('Feature')\n",
    "plt.title('Feature Importance Plot')\n",
    "plt.show()"
   ]
  },
  {
   "cell_type": "markdown",
   "metadata": {
    "cell_id": "0c55e7e0c78a454092a61c463ef3aa30",
    "deepnote_cell_type": "text-cell-p",
    "formattedRanges": [
     {
      "fromCodePoint": 0,
      "marks": {
       "bold": true
      },
      "toCodePoint": 13,
      "type": "marks"
     }
    ]
   },
   "source": [
    "Random Forest"
   ]
  },
  {
   "cell_type": "code",
   "execution_count": 69,
   "metadata": {
    "cell_id": "6c05992791cb4b26b89e77fd4665064e",
    "deepnote_cell_type": "code",
    "deepnote_to_be_reexecuted": false,
    "execution_millis": 2269,
    "execution_start": 1697464033986,
    "source_hash": null
   },
   "outputs": [
    {
     "name": "stdout",
     "output_type": "stream",
     "text": [
      "Confusion Matrix:\n",
      "[[1228   86]\n",
      " [ 492  543]]\n",
      "\n",
      "Classification Report:\n",
      "              precision    recall  f1-score   support\n",
      "\n",
      "           0       0.72      0.93      0.81      1314\n",
      "           1       0.86      0.55      0.67      1035\n",
      "\n",
      "    accuracy                           0.76      2349\n",
      "   macro avg       0.79      0.74      0.74      2349\n",
      "weighted avg       0.78      0.76      0.75      2349\n",
      "\n"
     ]
    }
   ],
   "source": [
    "# Create a Random Forest classifier\n",
    "rf_classifier = RandomForestClassifier(n_estimators=100, random_state=42)\n",
    "\n",
    "# Fit the classifier to the training data\n",
    "rf_classifier.fit(X_train, y_train)\n",
    "\n",
    "# Make predictions on the test data\n",
    "y_pred = rf_classifier.predict(X_test)\n",
    "\n",
    "print(\"Confusion Matrix:\")\n",
    "print(conf_matrix)\n",
    "print(\"\\nClassification Report:\")\n",
    "print(classification_rep)"
   ]
  },
  {
   "cell_type": "code",
   "execution_count": 70,
   "metadata": {},
   "outputs": [
    {
     "data": {
      "image/png": "[encoded data removed]",
      "text/plain": [
       "<Figure size 1000x600 with 1 Axes>"
      ]
     },
     "metadata": {},
     "output_type": "display_data"
    }
   ],
   "source": [
    "coef_names = ['Seat Comfort',\n",
    "              'Cabin Staff Service',\n",
    "              'Food & Beverages',\n",
    "              'Ground Service',\n",
    "              'Inflight Entertainment',\n",
    "              'Wifi & Connectivity',\n",
    "              'Value For Money',\n",
    "              'Recommended',\n",
    "              'Total Score'] \n",
    "\n",
    "# Get feature importances\n",
    "feature_importances = rf_classifier.feature_importances_\n",
    "\n",
    "# Create a pandas DataFrame to store the importances and corresponding feature names\n",
    "importance_df = pd.DataFrame({'Feature': coef_names, 'Importance': feature_importances})\n",
    "\n",
    "# Sort the DataFrame by importance values (optional but makes the plot look cleaner)\n",
    "importance_df = importance_df.sort_values(by='Importance', ascending=False)\n",
    "\n",
    "# Create a bar plot for feature importances\n",
    "plt.figure(figsize=(10, 6))\n",
    "plt.barh(importance_df['Feature'], importance_df['Importance'])\n",
    "plt.xlabel('Feature Importance')\n",
    "plt.ylabel('Feature')\n",
    "plt.title('Feature Importance Plot')\n",
    "plt.show()"
   ]
  },
  {
   "cell_type": "markdown",
   "metadata": {
    "cell_id": "48c0763bf94f47ee8aabe7839bfecdee",
    "deepnote_cell_type": "text-cell-h3",
    "formattedRanges": []
   },
   "source": [
    "### Sequential Application"
   ]
  },
  {
   "cell_type": "code",
   "execution_count": 71,
   "metadata": {
    "cell_id": "cab52ff3431247b386000495fd05c3b7",
    "deepnote_cell_type": "code",
    "deepnote_to_be_reexecuted": false,
    "execution_millis": 171,
    "execution_start": 1697464036245,
    "source_hash": null
   },
   "outputs": [],
   "source": [
    "# smote\n",
    "\n",
    "smote = SMOTE(sampling_strategy='auto', random_state=42)\n",
    "X_train1, y_train1 = smote.fit_resample(X_train, y_train)\n",
    "\n",
    "# enn\n",
    "\n",
    "enn = EditedNearestNeighbours(sampling_strategy='auto', n_neighbors=3)\n",
    "X_train2, y_train2 = enn.fit_resample(X_train1, y_train1)\n",
    "\n",
    "# smoteenn\n",
    "\n",
    "smote_enn = SMOTEENN(sampling_strategy='auto', random_state=42)\n",
    "X_train3, y_train3 = smote_enn.fit_resample(X_train2, y_train2)"
   ]
  },
  {
   "cell_type": "markdown",
   "metadata": {
    "cell_id": "20f31ca451344d14a6651069f04972ac",
    "deepnote_cell_type": "text-cell-p",
    "formattedRanges": [
     {
      "fromCodePoint": 0,
      "marks": {
       "bold": true
      },
      "toCodePoint": 19,
      "type": "marks"
     }
    ]
   },
   "source": [
    "Logistic Regression"
   ]
  },
  {
   "cell_type": "code",
   "execution_count": 72,
   "metadata": {
    "cell_id": "ed0db7b33df944ed98045c11a71ec45d",
    "deepnote_cell_type": "code",
    "deepnote_to_be_reexecuted": false,
    "execution_millis": 4727,
    "execution_start": 1697464038266,
    "source_hash": null
   },
   "outputs": [
    {
     "name": "stdout",
     "output_type": "stream",
     "text": [
      "Accuracy: 0.756066411238825\n",
      "Confusion Matrix:\n",
      "[[1202  112]\n",
      " [ 461  574]]\n",
      "Classification Report:\n",
      "              precision    recall  f1-score   support\n",
      "\n",
      "           0       0.72      0.91      0.81      1314\n",
      "           1       0.84      0.55      0.67      1035\n",
      "\n",
      "    accuracy                           0.76      2349\n",
      "   macro avg       0.78      0.73      0.74      2349\n",
      "weighted avg       0.77      0.76      0.75      2349\n",
      "\n"
     ]
    }
   ],
   "source": [
    "model = LogisticRegression()\n",
    "model.fit(X_train3, y_train3)\n",
    "\n",
    "y_pred = model.predict(X_test)\n",
    "\n",
    "accuracy = accuracy_score(y_test, y_pred)\n",
    "confusion = confusion_matrix(y_test, y_pred)\n",
    "classification_rep = classification_report(y_test, y_pred)\n",
    "\n",
    "print(f'Accuracy: {accuracy}')\n",
    "print(f'Confusion Matrix:\\n{confusion}')\n",
    "print(f'Classification Report:\\n{classification_rep}')"
   ]
  },
  {
   "cell_type": "markdown",
   "metadata": {
    "cell_id": "446b7da1ed2d4a27b75ded017b2da311",
    "deepnote_cell_type": "text-cell-p",
    "formattedRanges": [
     {
      "fromCodePoint": 0,
      "marks": {
       "bold": true
      },
      "toCodePoint": 13,
      "type": "marks"
     }
    ]
   },
   "source": [
    "Decision Tree"
   ]
  },
  {
   "cell_type": "code",
   "execution_count": 73,
   "metadata": {
    "cell_id": "901583ec34464c0bb0223c7e7f19a84c",
    "deepnote_cell_type": "code",
    "deepnote_to_be_reexecuted": false,
    "execution_millis": 223,
    "execution_start": 1697464043131,
    "source_hash": null
   },
   "outputs": [
    {
     "name": "stdout",
     "output_type": "stream",
     "text": [
      "Accuracy: 0.76\n",
      "Precision: 0.86\n",
      "Recall: 0.54\n",
      "F1-score: 0.66\n",
      "Confusion Matrix:\n",
      "[[1221   93]\n",
      " [ 481  554]]\n"
     ]
    }
   ],
   "source": [
    "# decision tree classifier\n",
    "tree_classifier = DecisionTreeClassifier()\n",
    "tree_classifier.fit(X_train3, y_train3)\n",
    "\n",
    "## making predictions using decision tree classifier\n",
    "y_pred = tree_classifier.predict(X_test)\n",
    "\n",
    "param_grid = {\n",
    "    'max_depth': [None, 10, 20, 30],\n",
    "    'min_samples_split': [2, 5, 10],\n",
    "    'min_samples_leaf': [1, 2, 4]\n",
    "}\n",
    "\n",
    "grid_search = GridSearchCV(DecisionTreeClassifier(), param_grid, cv=5)\n",
    "grid_search.fit(X_train3, y_train3)\n",
    "\n",
    "best_tree_classifier = grid_search.best_estimator_\n",
    "\n",
    "# evaluation metrics\n",
    "\n",
    "y_pred = best_tree_classifier.predict(X_test)\n",
    "\n",
    "# Calculate accuracy\n",
    "accuracy = accuracy_score(y_test, y_pred)\n",
    "print(f'Accuracy: {accuracy:.2f}')\n",
    "\n",
    "# Calculate precision\n",
    "precision = precision_score(y_test, y_pred)\n",
    "print(f'Precision: {precision:.2f}')\n",
    "\n",
    "# Calculate recall\n",
    "recall = recall_score(y_test, y_pred)\n",
    "print(f'Recall: {recall:.2f}')\n",
    "\n",
    "# Calculate F1-score\n",
    "f1 = f1_score(y_test, y_pred)\n",
    "print(f'F1-score: {f1:.2f}')\n",
    "\n",
    "# Generate a confusion matrix\n",
    "conf_matrix = confusion_matrix(y_test, y_pred)\n",
    "print('Confusion Matrix:')\n",
    "print(conf_matrix)"
   ]
  },
  {
   "cell_type": "markdown",
   "metadata": {
    "cell_id": "685d6557ca56414ca725e80293a68d13",
    "deepnote_cell_type": "text-cell-p",
    "formattedRanges": [
     {
      "fromCodePoint": 0,
      "marks": {
       "bold": true
      },
      "toCodePoint": 13,
      "type": "marks"
     }
    ]
   },
   "source": [
    "Random Forest"
   ]
  },
  {
   "cell_type": "code",
   "execution_count": 74,
   "metadata": {
    "cell_id": "6ea3f421cb4444c8bd2d34e29f480ffb",
    "deepnote_cell_type": "code",
    "deepnote_to_be_reexecuted": false,
    "execution_millis": 2147,
    "execution_start": 1697464056815,
    "source_hash": null
   },
   "outputs": [
    {
     "name": "stdout",
     "output_type": "stream",
     "text": [
      "Confusion Matrix:\n",
      "[[1221   93]\n",
      " [ 481  554]]\n",
      "\n",
      "Classification Report:\n",
      "              precision    recall  f1-score   support\n",
      "\n",
      "           0       0.72      0.91      0.81      1314\n",
      "           1       0.84      0.55      0.67      1035\n",
      "\n",
      "    accuracy                           0.76      2349\n",
      "   macro avg       0.78      0.73      0.74      2349\n",
      "weighted avg       0.77      0.76      0.75      2349\n",
      "\n"
     ]
    }
   ],
   "source": [
    "# Create a Random Forest classifier\n",
    "rf_classifier = RandomForestClassifier(n_estimators=100, random_state=42)\n",
    "\n",
    "# Fit the classifier to the training data\n",
    "rf_classifier.fit(X_train3, y_train3)\n",
    "\n",
    "# Make predictions on the test data\n",
    "y_pred = rf_classifier.predict(X_test)\n",
    "\n",
    "print(\"Confusion Matrix:\")\n",
    "print(conf_matrix)\n",
    "print(\"\\nClassification Report:\")\n",
    "print(classification_rep)"
   ]
  },
  {
   "cell_type": "markdown",
   "metadata": {
    "cell_id": "1647568322064e0c841f99bbe770fe6f",
    "deepnote_cell_type": "text-cell-h3",
    "formattedRanges": []
   },
   "source": [
    "### Parallel Application"
   ]
  },
  {
   "cell_type": "markdown",
   "metadata": {
    "cell_id": "b7cdcca97b4746d39186acdb5aba218f",
    "deepnote_cell_type": "text-cell-p",
    "formattedRanges": [
     {
      "fromCodePoint": 0,
      "marks": {
       "bold": true
      },
      "toCodePoint": 5,
      "type": "marks"
     }
    ]
   },
   "source": [
    "SMOTE"
   ]
  },
  {
   "cell_type": "markdown",
   "metadata": {
    "cell_id": "25ba46d7ca8146aea2bcc7af99e93a3f",
    "deepnote_cell_type": "text-cell-p",
    "formattedRanges": [
     {
      "fromCodePoint": 0,
      "marks": {
       "underline": true
      },
      "toCodePoint": 19,
      "type": "marks"
     }
    ]
   },
   "source": [
    "Logistic Regression"
   ]
  },
  {
   "cell_type": "code",
   "execution_count": 75,
   "metadata": {
    "cell_id": "8884160d792a4b4d90281256cd61a523",
    "deepnote_cell_type": "code",
    "deepnote_to_be_reexecuted": false,
    "execution_millis": 119,
    "execution_start": 1697464073743,
    "source_hash": null
   },
   "outputs": [
    {
     "name": "stdout",
     "output_type": "stream",
     "text": [
      "Accuracy: 0.7552149851000426\n",
      "Confusion Matrix:\n",
      "[[1184  130]\n",
      " [ 445  590]]\n",
      "Classification Report:\n",
      "              precision    recall  f1-score   support\n",
      "\n",
      "           0       0.73      0.90      0.80      1314\n",
      "           1       0.82      0.57      0.67      1035\n",
      "\n",
      "    accuracy                           0.76      2349\n",
      "   macro avg       0.77      0.74      0.74      2349\n",
      "weighted avg       0.77      0.76      0.75      2349\n",
      "\n"
     ]
    }
   ],
   "source": [
    "# smote\n",
    "\n",
    "smote = SMOTE(sampling_strategy='auto', random_state=42)\n",
    "X_train1, y_train1 = smote.fit_resample(X_train, y_train)\n",
    "\n",
    "model1 = LogisticRegression()\n",
    "model1.fit(X_train1, y_train1)\n",
    "\n",
    "y_pred1 = model1.predict(X_test)\n",
    "\n",
    "accuracy = accuracy_score(y_test, y_pred1)\n",
    "confusion = confusion_matrix(y_test, y_pred1)\n",
    "classification_rep = classification_report(y_test, y_pred1)\n",
    "\n",
    "print(f'Accuracy: {accuracy}')\n",
    "print(f'Confusion Matrix:\\n{confusion}')\n",
    "print(f'Classification Report:\\n{classification_rep}')"
   ]
  },
  {
   "cell_type": "markdown",
   "metadata": {
    "cell_id": "c4579216d57f4717b1f33aa9cd3fa226",
    "deepnote_cell_type": "text-cell-p",
    "formattedRanges": [
     {
      "fromCodePoint": 0,
      "marks": {
       "underline": true
      },
      "toCodePoint": 13,
      "type": "marks"
     }
    ]
   },
   "source": [
    "Decision Tree"
   ]
  },
  {
   "cell_type": "code",
   "execution_count": 76,
   "metadata": {
    "cell_id": "bc7477b83eca4524a0f207c95492f793",
    "deepnote_cell_type": "code",
    "deepnote_to_be_reexecuted": false,
    "execution_millis": 28,
    "execution_start": 1697464114821,
    "source_hash": null
   },
   "outputs": [
    {
     "name": "stdout",
     "output_type": "stream",
     "text": [
      "Accuracy: 0.75\n",
      "Precision: 0.80\n",
      "Recall: 0.56\n",
      "F1-score: 0.66\n",
      "Confusion Matrix:\n",
      "[[1171  143]\n",
      " [ 453  582]]\n"
     ]
    }
   ],
   "source": [
    "tree_classifier1 = DecisionTreeClassifier()\n",
    "tree_classifier1.fit(X_train1, y_train1)\n",
    "\n",
    "# making predictions using decision tree classifier\n",
    "y_pred1 = tree_classifier1.predict(X_test)\n",
    "\n",
    "param_grid = {\n",
    "    'max_depth': [None, 10, 20, 30],\n",
    "    'min_samples_split': [2, 5, 10],\n",
    "    'min_samples_leaf': [1, 2, 4]\n",
    "}\n",
    "\n",
    "grid_search = GridSearchCV(tree_classifier1, param_grid, cv=5)\n",
    "grid_search.fit(X_train1, y_train1)\n",
    "\n",
    "best_tree_classifier1 = grid_search.best_estimator_\n",
    "\n",
    "# evaluation metrics\n",
    "\n",
    "y_pred = best_tree_classifier1.predict(X_test)\n",
    "\n",
    "# Calculate accuracy\n",
    "accuracy = accuracy_score(y_test, y_pred1)\n",
    "print(f'Accuracy: {accuracy:.2f}')\n",
    "\n",
    "# Calculate precision\n",
    "precision = precision_score(y_test, y_pred1)\n",
    "print(f'Precision: {precision:.2f}')\n",
    "\n",
    "# Calculate recall\n",
    "recall = recall_score(y_test, y_pred1)\n",
    "print(f'Recall: {recall:.2f}')\n",
    "\n",
    "# Calculate F1-score\n",
    "f1 = f1_score(y_test, y_pred1)\n",
    "print(f'F1-score: {f1:.2f}')\n",
    "\n",
    "# Generate a confusion matrix\n",
    "conf_matrix = confusion_matrix(y_test, y_pred1)\n",
    "print('Confusion Matrix:')\n",
    "print(conf_matrix)"
   ]
  },
  {
   "cell_type": "markdown",
   "metadata": {
    "cell_id": "981949fc06d3463d97895cf8c5feab12",
    "deepnote_cell_type": "text-cell-p",
    "formattedRanges": [
     {
      "fromCodePoint": 0,
      "marks": {
       "underline": true
      },
      "toCodePoint": 13,
      "type": "marks"
     }
    ]
   },
   "source": [
    "Random Forest"
   ]
  },
  {
   "cell_type": "code",
   "execution_count": 77,
   "metadata": {
    "cell_id": "f4ec3a369b664750935ce220c19b46d5",
    "deepnote_cell_type": "code",
    "deepnote_to_be_reexecuted": false,
    "execution_millis": 2902,
    "execution_start": 1697464114984,
    "source_hash": null
   },
   "outputs": [
    {
     "name": "stdout",
     "output_type": "stream",
     "text": [
      "Confusion Matrix:\n",
      "[[1171  143]\n",
      " [ 453  582]]\n",
      "\n",
      "Classification Report:\n",
      "              precision    recall  f1-score   support\n",
      "\n",
      "           0       0.73      0.90      0.80      1314\n",
      "           1       0.82      0.57      0.67      1035\n",
      "\n",
      "    accuracy                           0.76      2349\n",
      "   macro avg       0.77      0.74      0.74      2349\n",
      "weighted avg       0.77      0.76      0.75      2349\n",
      "\n"
     ]
    }
   ],
   "source": [
    "# Create a Random Forest classifier\n",
    "rf_classifier = RandomForestClassifier(n_estimators=100, random_state=42)\n",
    "\n",
    "# Fit the classifier to the training data\n",
    "rf_classifier.fit(X_train1, y_train1)\n",
    "\n",
    "# Make predictions on the test data\n",
    "y_pred = rf_classifier.predict(X_test)\n",
    "\n",
    "print(\"Confusion Matrix:\")\n",
    "print(conf_matrix)\n",
    "print(\"\\nClassification Report:\")\n",
    "print(classification_rep)"
   ]
  },
  {
   "cell_type": "markdown",
   "metadata": {
    "cell_id": "920cb3f5eb72487da662e5ad0bf21ae4",
    "deepnote_cell_type": "text-cell-p",
    "formattedRanges": [
     {
      "fromCodePoint": 0,
      "marks": {
       "bold": true
      },
      "toCodePoint": 3,
      "type": "marks"
     }
    ]
   },
   "source": [
    "ENN"
   ]
  },
  {
   "cell_type": "markdown",
   "metadata": {
    "cell_id": "57162ad7e85b457b859e597d7346d362",
    "deepnote_cell_type": "text-cell-p",
    "formattedRanges": [
     {
      "fromCodePoint": 0,
      "marks": {
       "underline": true
      },
      "toCodePoint": 19,
      "type": "marks"
     }
    ]
   },
   "source": [
    "Logistic Regression"
   ]
  },
  {
   "cell_type": "code",
   "execution_count": 78,
   "metadata": {
    "cell_id": "63afa6bfc92348fea87e04fb45b8eec2",
    "deepnote_cell_type": "code",
    "deepnote_to_be_reexecuted": false,
    "execution_millis": 85,
    "execution_start": 1697464073853,
    "source_hash": null
   },
   "outputs": [
    {
     "name": "stdout",
     "output_type": "stream",
     "text": [
      "Accuracy: 0.7066836951894423\n",
      "Confusion Matrix:\n",
      "[[960 354]\n",
      " [335 700]]\n",
      "Classification Report:\n",
      "              precision    recall  f1-score   support\n",
      "\n",
      "           0       0.74      0.73      0.74      1314\n",
      "           1       0.66      0.68      0.67      1035\n",
      "\n",
      "    accuracy                           0.71      2349\n",
      "   macro avg       0.70      0.70      0.70      2349\n",
      "weighted avg       0.71      0.71      0.71      2349\n",
      "\n"
     ]
    }
   ],
   "source": [
    "# enn\n",
    "\n",
    "enn = EditedNearestNeighbours(sampling_strategy='auto', n_neighbors=3)\n",
    "X_train2, y_train2 = enn.fit_resample(X_train, y_train)\n",
    "\n",
    "model2 = LogisticRegression()\n",
    "model2.fit(X_train2, y_train2)\n",
    "\n",
    "y_pred2 = model2.predict(X_test)\n",
    "\n",
    "accuracy = accuracy_score(y_test, y_pred2)\n",
    "confusion = confusion_matrix(y_test, y_pred2)\n",
    "classification_rep = classification_report(y_test, y_pred2)\n",
    "\n",
    "print(f'Accuracy: {accuracy}')\n",
    "print(f'Confusion Matrix:\\n{confusion}')\n",
    "print(f'Classification Report:\\n{classification_rep}')"
   ]
  },
  {
   "cell_type": "markdown",
   "metadata": {
    "cell_id": "a2b8eafb8e104806b3682f1b523086be",
    "deepnote_cell_type": "text-cell-p",
    "formattedRanges": [
     {
      "fromCodePoint": 0,
      "marks": {
       "underline": true
      },
      "toCodePoint": 13,
      "type": "marks"
     }
    ]
   },
   "source": [
    "Decision Tree"
   ]
  },
  {
   "cell_type": "code",
   "execution_count": 79,
   "metadata": {
    "cell_id": "6d5e67c1ad284cb9a97c60f2d68560b2",
    "deepnote_cell_type": "code",
    "deepnote_to_be_reexecuted": false,
    "execution_millis": 53,
    "execution_start": 1697464114844,
    "source_hash": null
   },
   "outputs": [
    {
     "name": "stdout",
     "output_type": "stream",
     "text": [
      "Accuracy: 0.67\n",
      "Precision: 0.61\n",
      "Recall: 0.71\n",
      "F1-score: 0.66\n",
      "Confusion Matrix:\n",
      "[[841 473]\n",
      " [297 738]]\n"
     ]
    }
   ],
   "source": [
    "tree_classifier2 = DecisionTreeClassifier()\n",
    "tree_classifier2.fit(X_train2, y_train2)\n",
    "\n",
    "# making predictions using decision tree classifier\n",
    "y_pred2 = tree_classifier2.predict(X_test)\n",
    "\n",
    "param_grid = {\n",
    "    'max_depth': [None, 10, 20, 30],\n",
    "    'min_samples_split': [2, 5, 10],\n",
    "    'min_samples_leaf': [1, 2, 4]\n",
    "}\n",
    "\n",
    "grid_search = GridSearchCV(tree_classifier2, param_grid, cv=5)\n",
    "grid_search.fit(X_train2, y_train2)\n",
    "\n",
    "best_tree_classifier2 = grid_search.best_estimator_\n",
    "\n",
    "# evaluation metrics\n",
    "\n",
    "y_pred = best_tree_classifier2.predict(X_test)\n",
    "\n",
    "# Calculate accuracy\n",
    "accuracy = accuracy_score(y_test, y_pred2)\n",
    "print(f'Accuracy: {accuracy:.2f}')\n",
    "\n",
    "# Calculate precision\n",
    "precision = precision_score(y_test, y_pred2)\n",
    "print(f'Precision: {precision:.2f}')\n",
    "\n",
    "# Calculate recall\n",
    "recall = recall_score(y_test, y_pred2)\n",
    "print(f'Recall: {recall:.2f}')\n",
    "\n",
    "# Calculate F1-score\n",
    "f1 = f1_score(y_test, y_pred2)\n",
    "print(f'F1-score: {f1:.2f}')\n",
    "\n",
    "# Generate a confusion matrix\n",
    "conf_matrix = confusion_matrix(y_test, y_pred2)\n",
    "print('Confusion Matrix:')\n",
    "print(conf_matrix)"
   ]
  },
  {
   "cell_type": "markdown",
   "metadata": {
    "cell_id": "c051b695d5ba47d49f67b669c10c9973",
    "deepnote_cell_type": "text-cell-p",
    "formattedRanges": [
     {
      "fromCodePoint": 0,
      "marks": {
       "underline": true
      },
      "toCodePoint": 13,
      "type": "marks"
     }
    ]
   },
   "source": [
    "Random Forest"
   ]
  },
  {
   "cell_type": "code",
   "execution_count": 80,
   "metadata": {
    "cell_id": "0f719514cb624a2bad7ad940c6843b3c",
    "deepnote_cell_type": "code",
    "deepnote_to_be_reexecuted": false,
    "execution_millis": 1503,
    "execution_start": 1697464117837,
    "source_hash": null
   },
   "outputs": [
    {
     "name": "stdout",
     "output_type": "stream",
     "text": [
      "Confusion Matrix:\n",
      "[[841 473]\n",
      " [297 738]]\n",
      "\n",
      "Classification Report:\n",
      "              precision    recall  f1-score   support\n",
      "\n",
      "           0       0.74      0.73      0.74      1314\n",
      "           1       0.66      0.68      0.67      1035\n",
      "\n",
      "    accuracy                           0.71      2349\n",
      "   macro avg       0.70      0.70      0.70      2349\n",
      "weighted avg       0.71      0.71      0.71      2349\n",
      "\n"
     ]
    }
   ],
   "source": [
    "# Create a Random Forest classifier\n",
    "rf_classifier = RandomForestClassifier(n_estimators=100, random_state=42)\n",
    "\n",
    "# Fit the classifier to the training data\n",
    "rf_classifier.fit(X_train2, y_train2)\n",
    "\n",
    "# Make predictions on the test data\n",
    "y_pred = rf_classifier.predict(X_test)\n",
    "\n",
    "print(\"Confusion Matrix:\")\n",
    "print(conf_matrix)\n",
    "print(\"\\nClassification Report:\")\n",
    "print(classification_rep)"
   ]
  },
  {
   "cell_type": "markdown",
   "metadata": {
    "cell_id": "7f8240d49b11426db5746c2650e09e19",
    "deepnote_cell_type": "text-cell-p",
    "formattedRanges": [
     {
      "fromCodePoint": 0,
      "marks": {
       "bold": true
      },
      "toCodePoint": 9,
      "type": "marks"
     }
    ]
   },
   "source": [
    "SMOTE-ENN"
   ]
  },
  {
   "cell_type": "markdown",
   "metadata": {
    "cell_id": "69634275a2b040f0aab970e129831f4b",
    "deepnote_cell_type": "text-cell-p",
    "formattedRanges": [
     {
      "fromCodePoint": 0,
      "marks": {
       "underline": true
      },
      "toCodePoint": 19,
      "type": "marks"
     }
    ]
   },
   "source": [
    "Logistic Regression"
   ]
  },
  {
   "cell_type": "code",
   "execution_count": 81,
   "metadata": {
    "cell_id": "648666c25274417391dc0c298fdbb212",
    "deepnote_cell_type": "code",
    "deepnote_to_be_reexecuted": false,
    "execution_millis": 35,
    "execution_start": 1697464073969,
    "source_hash": null
   },
   "outputs": [
    {
     "name": "stdout",
     "output_type": "stream",
     "text": [
      "Accuracy: 0.7496807151979565\n",
      "Confusion Matrix:\n",
      "[[1164  150]\n",
      " [ 438  597]]\n",
      "Classification Report:\n",
      "              precision    recall  f1-score   support\n",
      "\n",
      "           0       0.73      0.89      0.80      1314\n",
      "           1       0.80      0.58      0.67      1035\n",
      "\n",
      "    accuracy                           0.75      2349\n",
      "   macro avg       0.76      0.73      0.73      2349\n",
      "weighted avg       0.76      0.75      0.74      2349\n",
      "\n"
     ]
    }
   ],
   "source": [
    "# smoteenn\n",
    "\n",
    "smote_enn = SMOTEENN(sampling_strategy='auto', random_state=42)\n",
    "X_train3, y_train3 = smote_enn.fit_resample(X_train, y_train)\n",
    "\n",
    "model3 = LogisticRegression()\n",
    "model3.fit(X_train3, y_train3)\n",
    "\n",
    "y_pred3 = model3.predict(X_test)\n",
    "\n",
    "accuracy = accuracy_score(y_test, y_pred3)\n",
    "confusion = confusion_matrix(y_test, y_pred3)\n",
    "classification_rep = classification_report(y_test, y_pred3)\n",
    "\n",
    "print(f'Accuracy: {accuracy}')\n",
    "print(f'Confusion Matrix:\\n{confusion}')\n",
    "print(f'Classification Report:\\n{classification_rep}')"
   ]
  },
  {
   "cell_type": "markdown",
   "metadata": {
    "cell_id": "7a0b9856d2234fbda35e8be0dad0bfd3",
    "deepnote_cell_type": "text-cell-p",
    "formattedRanges": [
     {
      "fromCodePoint": 0,
      "marks": {
       "underline": true
      },
      "toCodePoint": 13,
      "type": "marks"
     }
    ]
   },
   "source": [
    "Decision Tree"
   ]
  },
  {
   "cell_type": "code",
   "execution_count": 82,
   "metadata": {
    "cell_id": "72fa46d875e64e6f9080b5e836318676",
    "deepnote_cell_type": "code",
    "deepnote_to_be_reexecuted": false,
    "execution_millis": 26,
    "execution_start": 1697464114923,
    "source_hash": null
   },
   "outputs": [
    {
     "name": "stdout",
     "output_type": "stream",
     "text": [
      "Accuracy: 0.71\n",
      "Precision: 0.68\n",
      "Recall: 0.66\n",
      "F1-score: 0.67\n",
      "Confusion Matrix:\n",
      "[[995 319]\n",
      " [354 681]]\n"
     ]
    }
   ],
   "source": [
    "tree_classifier3 = DecisionTreeClassifier()\n",
    "tree_classifier3.fit(X_train3, y_train3)\n",
    "\n",
    "# making predictions using decision tree classifier\n",
    "y_pred3 = tree_classifier3.predict(X_test)\n",
    "\n",
    "param_grid = {\n",
    "    'max_depth': [None, 10, 20, 30],\n",
    "    'min_samples_split': [2, 5, 10],\n",
    "    'min_samples_leaf': [1, 2, 4]\n",
    "}\n",
    "\n",
    "grid_search = GridSearchCV(tree_classifier3, param_grid, cv=5)\n",
    "grid_search.fit(X_train3, y_train3)\n",
    "\n",
    "best_tree_classifier3 = grid_search.best_estimator_\n",
    "\n",
    "# evaluation metrics\n",
    "\n",
    "y_pred = best_tree_classifier3.predict(X_test)\n",
    "\n",
    "# Calculate accuracy\n",
    "accuracy = accuracy_score(y_test, y_pred3)\n",
    "print(f'Accuracy: {accuracy:.2f}')\n",
    "\n",
    "# Calculate precision\n",
    "precision = precision_score(y_test, y_pred3)\n",
    "print(f'Precision: {precision:.2f}')\n",
    "\n",
    "# Calculate recall\n",
    "recall = recall_score(y_test, y_pred3)\n",
    "print(f'Recall: {recall:.2f}')\n",
    "\n",
    "# Calculate F1-score\n",
    "f1 = f1_score(y_test, y_pred3)\n",
    "print(f'F1-score: {f1:.2f}')\n",
    "\n",
    "# Generate a confusion matrix\n",
    "conf_matrix = confusion_matrix(y_test, y_pred3)\n",
    "print('Confusion Matrix:')\n",
    "print(conf_matrix)"
   ]
  },
  {
   "cell_type": "code",
   "execution_count": 83,
   "metadata": {},
   "outputs": [
    {
     "data": {
      "image/png": "[encoded data removed]",
      "text/plain": [
       "<Figure size 1000x600 with 1 Axes>"
      ]
     },
     "metadata": {},
     "output_type": "display_data"
    }
   ],
   "source": [
    "coef_names = ['Seat Comfort',\n",
    "              'Cabin Staff Service',\n",
    "              'Food & Beverages',\n",
    "              'Ground Service',\n",
    "              'Inflight Entertainment',\n",
    "              'Wifi & Connectivity',\n",
    "              'Value For Money',\n",
    "              'Recommended',\n",
    "              'Total Score'] \n",
    "\n",
    "# Get feature importances\n",
    "feature_importances = best_tree_classifier.feature_importances_\n",
    "\n",
    "# Create a pandas DataFrame to store the importances and corresponding feature names\n",
    "importance_df = pd.DataFrame({'Feature': coef_names, 'Importance': feature_importances})\n",
    "\n",
    "# Sort the DataFrame by importance values (optional but makes the plot look cleaner)\n",
    "importance_df = importance_df.sort_values(by='Importance', ascending=False)\n",
    "\n",
    "# Create a bar plot for feature importances\n",
    "plt.figure(figsize=(10, 6))\n",
    "plt.barh(importance_df['Feature'], importance_df['Importance'])\n",
    "plt.xlabel('Feature Importance')\n",
    "plt.ylabel('Feature')\n",
    "plt.title('Feature Importance Plot')\n",
    "plt.show()"
   ]
  },
  {
   "cell_type": "markdown",
   "metadata": {
    "cell_id": "eba29dc90ad54a4a9905fbe16830d262",
    "deepnote_cell_type": "text-cell-p",
    "formattedRanges": [
     {
      "fromCodePoint": 0,
      "marks": {
       "underline": true
      },
      "toCodePoint": 13,
      "type": "marks"
     }
    ]
   },
   "source": [
    "Random Forest"
   ]
  },
  {
   "cell_type": "code",
   "execution_count": 84,
   "metadata": {
    "cell_id": "034430c9397b48149b255b2a0516cb55",
    "deepnote_cell_type": "code",
    "deepnote_to_be_reexecuted": false,
    "execution_millis": 2224,
    "execution_start": 1697464119325,
    "source_hash": null
   },
   "outputs": [
    {
     "name": "stdout",
     "output_type": "stream",
     "text": [
      "Confusion Matrix:\n",
      "[[995 319]\n",
      " [354 681]]\n",
      "\n",
      "Classification Report:\n",
      "              precision    recall  f1-score   support\n",
      "\n",
      "           0       0.73      0.89      0.80      1314\n",
      "           1       0.80      0.58      0.67      1035\n",
      "\n",
      "    accuracy                           0.75      2349\n",
      "   macro avg       0.76      0.73      0.73      2349\n",
      "weighted avg       0.76      0.75      0.74      2349\n",
      "\n"
     ]
    }
   ],
   "source": [
    "# Create a Random Forest classifier\n",
    "rf_classifier = RandomForestClassifier(n_estimators=100, random_state=42)\n",
    "\n",
    "# Fit the classifier to the training data\n",
    "rf_classifier.fit(X_train3, y_train3)\n",
    "\n",
    "# Make predictions on the test data\n",
    "y_pred = rf_classifier.predict(X_test)\n",
    "\n",
    "print(\"Confusion Matrix:\")\n",
    "print(conf_matrix)\n",
    "print(\"\\nClassification Report:\")\n",
    "print(classification_rep)"
   ]
  }
 ],
 "metadata": {
  "deepnote": {},
  "deepnote_execution_queue": [],
  "deepnote_notebook_id": "8eecad95e8af4b3a8cb63715f2b885a2",
  "kernelspec": {
   "display_name": "Python 3 (ipykernel)",
   "language": "python",
   "name": "python3"
  },
  "language_info": {
   "codemirror_mode": {
    "name": "ipython",
    "version": 3
   },
   "file_extension": ".py",
   "mimetype": "text/x-python",
   "name": "python",
   "nbconvert_exporter": "python",
   "pygments_lexer": "ipython3",
   "version": "3.11.2"
  }
 },
 "nbformat": 4,
 "nbformat_minor": 4
}
